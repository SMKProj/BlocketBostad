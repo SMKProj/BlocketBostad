{
  "nbformat": 4,
  "nbformat_minor": 0,
  "metadata": {
    "colab": {
      "provenance": [],
      "authorship_tag": "ABX9TyN/NLLOyI49bVUxDLkN3s4R",
      "include_colab_link": true
    },
    "kernelspec": {
      "name": "python3",
      "display_name": "Python 3"
    },
    "language_info": {
      "name": "python"
    }
  },
  "cells": [
    {
      "cell_type": "markdown",
      "metadata": {
        "id": "view-in-github",
        "colab_type": "text"
      },
      "source": [
        "<a href=\"https://colab.research.google.com/github/SMKProj/WebScraping/blob/main/BloacketBostadAnalysis2.ipynb\" target=\"_parent\"><img src=\"https://colab.research.google.com/assets/colab-badge.svg\" alt=\"Open In Colab\"/></a>"
      ]
    },
    {
      "cell_type": "code",
      "execution_count": null,
      "metadata": {
        "id": "frNdO6qVgcuU"
      },
      "outputs": [],
      "source": [
        "import pandas as pd\n",
        "import numpy as np\n",
        "import matplotlib.pyplot as plt\n",
        "import seaborn as sns"
      ]
    },
    {
      "cell_type": "code",
      "source": [
        "df1 = pd.read_csv('bostad.txt')\n",
        "df1.head(7)"
      ],
      "metadata": {
        "colab": {
          "base_uri": "https://localhost:8080/",
          "height": 269
        },
        "id": "nx_n2A60grhn",
        "outputId": "d6975cc7-3617-484f-82d4-1f4c7aa83033"
      },
      "execution_count": null,
      "outputs": [
        {
          "output_type": "execute_result",
          "data": {
            "text/plain": [
              "             Title   Location           Type  Rooms Size (m²)       Start  \\\n",
              "0  Ekensbergsvägen  Stockholm      Apartment    2.0        28  2023-10-01   \n",
              "1      Reginavägen      Malmö  Terrace house    3.0        72         Now   \n",
              "2     Allmogevägen   Järfälla      Apartment    2.0        65         Now   \n",
              "3    Hagmarksgatan  Linköping      Apartment    3.0        82  2024-01-01   \n",
              "4    Gullvivegränd   Hässelby          House    5.0       140  2023-12-01   \n",
              "5    Tornérplatsen   Järfälla      Apartment    2.5        70         Now   \n",
              "6     Osbacksvägen  Norrtälje      Apartment    5.0       105  2023-11-01   \n",
              "\n",
              "                    End       Price  \\\n",
              "0            2024-09-30  SEK 12,500   \n",
              "1  Until further notice  SEK 25,500   \n",
              "2  Until further notice  SEK 15,742   \n",
              "3  Until further notice   SEK 8,975   \n",
              "4  Until further notice  SEK 30,435   \n",
              "5  Until further notice  SEK 14,693   \n",
              "6  Until further notice  SEK 17,249   \n",
              "\n",
              "                                           Link  \n",
              "0  https://bostad.blocket.se/p2/en/home/676664/  \n",
              "1  https://bostad.blocket.se/p2/en/home/676663/  \n",
              "2  https://bostad.blocket.se/p2/en/home/429113/  \n",
              "3  https://bostad.blocket.se/p2/en/home/676661/  \n",
              "4  https://bostad.blocket.se/p2/en/home/676644/  \n",
              "5  https://bostad.blocket.se/p2/en/home/676660/  \n",
              "6  https://bostad.blocket.se/p2/en/home/676654/  "
            ],
            "text/html": [
              "\n",
              "  <div id=\"df-0fed4624-eec1-4cd5-b7e9-18c50a2d8650\" class=\"colab-df-container\">\n",
              "    <div>\n",
              "<style scoped>\n",
              "    .dataframe tbody tr th:only-of-type {\n",
              "        vertical-align: middle;\n",
              "    }\n",
              "\n",
              "    .dataframe tbody tr th {\n",
              "        vertical-align: top;\n",
              "    }\n",
              "\n",
              "    .dataframe thead th {\n",
              "        text-align: right;\n",
              "    }\n",
              "</style>\n",
              "<table border=\"1\" class=\"dataframe\">\n",
              "  <thead>\n",
              "    <tr style=\"text-align: right;\">\n",
              "      <th></th>\n",
              "      <th>Title</th>\n",
              "      <th>Location</th>\n",
              "      <th>Type</th>\n",
              "      <th>Rooms</th>\n",
              "      <th>Size (m²)</th>\n",
              "      <th>Start</th>\n",
              "      <th>End</th>\n",
              "      <th>Price</th>\n",
              "      <th>Link</th>\n",
              "    </tr>\n",
              "  </thead>\n",
              "  <tbody>\n",
              "    <tr>\n",
              "      <th>0</th>\n",
              "      <td>Ekensbergsvägen</td>\n",
              "      <td>Stockholm</td>\n",
              "      <td>Apartment</td>\n",
              "      <td>2.0</td>\n",
              "      <td>28</td>\n",
              "      <td>2023-10-01</td>\n",
              "      <td>2024-09-30</td>\n",
              "      <td>SEK 12,500</td>\n",
              "      <td>https://bostad.blocket.se/p2/en/home/676664/</td>\n",
              "    </tr>\n",
              "    <tr>\n",
              "      <th>1</th>\n",
              "      <td>Reginavägen</td>\n",
              "      <td>Malmö</td>\n",
              "      <td>Terrace house</td>\n",
              "      <td>3.0</td>\n",
              "      <td>72</td>\n",
              "      <td>Now</td>\n",
              "      <td>Until further notice</td>\n",
              "      <td>SEK 25,500</td>\n",
              "      <td>https://bostad.blocket.se/p2/en/home/676663/</td>\n",
              "    </tr>\n",
              "    <tr>\n",
              "      <th>2</th>\n",
              "      <td>Allmogevägen</td>\n",
              "      <td>Järfälla</td>\n",
              "      <td>Apartment</td>\n",
              "      <td>2.0</td>\n",
              "      <td>65</td>\n",
              "      <td>Now</td>\n",
              "      <td>Until further notice</td>\n",
              "      <td>SEK 15,742</td>\n",
              "      <td>https://bostad.blocket.se/p2/en/home/429113/</td>\n",
              "    </tr>\n",
              "    <tr>\n",
              "      <th>3</th>\n",
              "      <td>Hagmarksgatan</td>\n",
              "      <td>Linköping</td>\n",
              "      <td>Apartment</td>\n",
              "      <td>3.0</td>\n",
              "      <td>82</td>\n",
              "      <td>2024-01-01</td>\n",
              "      <td>Until further notice</td>\n",
              "      <td>SEK 8,975</td>\n",
              "      <td>https://bostad.blocket.se/p2/en/home/676661/</td>\n",
              "    </tr>\n",
              "    <tr>\n",
              "      <th>4</th>\n",
              "      <td>Gullvivegränd</td>\n",
              "      <td>Hässelby</td>\n",
              "      <td>House</td>\n",
              "      <td>5.0</td>\n",
              "      <td>140</td>\n",
              "      <td>2023-12-01</td>\n",
              "      <td>Until further notice</td>\n",
              "      <td>SEK 30,435</td>\n",
              "      <td>https://bostad.blocket.se/p2/en/home/676644/</td>\n",
              "    </tr>\n",
              "    <tr>\n",
              "      <th>5</th>\n",
              "      <td>Tornérplatsen</td>\n",
              "      <td>Järfälla</td>\n",
              "      <td>Apartment</td>\n",
              "      <td>2.5</td>\n",
              "      <td>70</td>\n",
              "      <td>Now</td>\n",
              "      <td>Until further notice</td>\n",
              "      <td>SEK 14,693</td>\n",
              "      <td>https://bostad.blocket.se/p2/en/home/676660/</td>\n",
              "    </tr>\n",
              "    <tr>\n",
              "      <th>6</th>\n",
              "      <td>Osbacksvägen</td>\n",
              "      <td>Norrtälje</td>\n",
              "      <td>Apartment</td>\n",
              "      <td>5.0</td>\n",
              "      <td>105</td>\n",
              "      <td>2023-11-01</td>\n",
              "      <td>Until further notice</td>\n",
              "      <td>SEK 17,249</td>\n",
              "      <td>https://bostad.blocket.se/p2/en/home/676654/</td>\n",
              "    </tr>\n",
              "  </tbody>\n",
              "</table>\n",
              "</div>\n",
              "    <div class=\"colab-df-buttons\">\n",
              "\n",
              "  <div class=\"colab-df-container\">\n",
              "    <button class=\"colab-df-convert\" onclick=\"convertToInteractive('df-0fed4624-eec1-4cd5-b7e9-18c50a2d8650')\"\n",
              "            title=\"Convert this dataframe to an interactive table.\"\n",
              "            style=\"display:none;\">\n",
              "\n",
              "  <svg xmlns=\"http://www.w3.org/2000/svg\" height=\"24px\" viewBox=\"0 -960 960 960\">\n",
              "    <path d=\"M120-120v-720h720v720H120Zm60-500h600v-160H180v160Zm220 220h160v-160H400v160Zm0 220h160v-160H400v160ZM180-400h160v-160H180v160Zm440 0h160v-160H620v160ZM180-180h160v-160H180v160Zm440 0h160v-160H620v160Z\"/>\n",
              "  </svg>\n",
              "    </button>\n",
              "\n",
              "  <style>\n",
              "    .colab-df-container {\n",
              "      display:flex;\n",
              "      gap: 12px;\n",
              "    }\n",
              "\n",
              "    .colab-df-convert {\n",
              "      background-color: #E8F0FE;\n",
              "      border: none;\n",
              "      border-radius: 50%;\n",
              "      cursor: pointer;\n",
              "      display: none;\n",
              "      fill: #1967D2;\n",
              "      height: 32px;\n",
              "      padding: 0 0 0 0;\n",
              "      width: 32px;\n",
              "    }\n",
              "\n",
              "    .colab-df-convert:hover {\n",
              "      background-color: #E2EBFA;\n",
              "      box-shadow: 0px 1px 2px rgba(60, 64, 67, 0.3), 0px 1px 3px 1px rgba(60, 64, 67, 0.15);\n",
              "      fill: #174EA6;\n",
              "    }\n",
              "\n",
              "    .colab-df-buttons div {\n",
              "      margin-bottom: 4px;\n",
              "    }\n",
              "\n",
              "    [theme=dark] .colab-df-convert {\n",
              "      background-color: #3B4455;\n",
              "      fill: #D2E3FC;\n",
              "    }\n",
              "\n",
              "    [theme=dark] .colab-df-convert:hover {\n",
              "      background-color: #434B5C;\n",
              "      box-shadow: 0px 1px 3px 1px rgba(0, 0, 0, 0.15);\n",
              "      filter: drop-shadow(0px 1px 2px rgba(0, 0, 0, 0.3));\n",
              "      fill: #FFFFFF;\n",
              "    }\n",
              "  </style>\n",
              "\n",
              "    <script>\n",
              "      const buttonEl =\n",
              "        document.querySelector('#df-0fed4624-eec1-4cd5-b7e9-18c50a2d8650 button.colab-df-convert');\n",
              "      buttonEl.style.display =\n",
              "        google.colab.kernel.accessAllowed ? 'block' : 'none';\n",
              "\n",
              "      async function convertToInteractive(key) {\n",
              "        const element = document.querySelector('#df-0fed4624-eec1-4cd5-b7e9-18c50a2d8650');\n",
              "        const dataTable =\n",
              "          await google.colab.kernel.invokeFunction('convertToInteractive',\n",
              "                                                    [key], {});\n",
              "        if (!dataTable) return;\n",
              "\n",
              "        const docLinkHtml = 'Like what you see? Visit the ' +\n",
              "          '<a target=\"_blank\" href=https://colab.research.google.com/notebooks/data_table.ipynb>data table notebook</a>'\n",
              "          + ' to learn more about interactive tables.';\n",
              "        element.innerHTML = '';\n",
              "        dataTable['output_type'] = 'display_data';\n",
              "        await google.colab.output.renderOutput(dataTable, element);\n",
              "        const docLink = document.createElement('div');\n",
              "        docLink.innerHTML = docLinkHtml;\n",
              "        element.appendChild(docLink);\n",
              "      }\n",
              "    </script>\n",
              "  </div>\n",
              "\n",
              "\n",
              "<div id=\"df-a5a0d1f0-f9ec-40ea-ac18-aa52669e28ae\">\n",
              "  <button class=\"colab-df-quickchart\" onclick=\"quickchart('df-a5a0d1f0-f9ec-40ea-ac18-aa52669e28ae')\"\n",
              "            title=\"Suggest charts.\"\n",
              "            style=\"display:none;\">\n",
              "\n",
              "<svg xmlns=\"http://www.w3.org/2000/svg\" height=\"24px\"viewBox=\"0 0 24 24\"\n",
              "     width=\"24px\">\n",
              "    <g>\n",
              "        <path d=\"M19 3H5c-1.1 0-2 .9-2 2v14c0 1.1.9 2 2 2h14c1.1 0 2-.9 2-2V5c0-1.1-.9-2-2-2zM9 17H7v-7h2v7zm4 0h-2V7h2v10zm4 0h-2v-4h2v4z\"/>\n",
              "    </g>\n",
              "</svg>\n",
              "  </button>\n",
              "\n",
              "<style>\n",
              "  .colab-df-quickchart {\n",
              "      --bg-color: #E8F0FE;\n",
              "      --fill-color: #1967D2;\n",
              "      --hover-bg-color: #E2EBFA;\n",
              "      --hover-fill-color: #174EA6;\n",
              "      --disabled-fill-color: #AAA;\n",
              "      --disabled-bg-color: #DDD;\n",
              "  }\n",
              "\n",
              "  [theme=dark] .colab-df-quickchart {\n",
              "      --bg-color: #3B4455;\n",
              "      --fill-color: #D2E3FC;\n",
              "      --hover-bg-color: #434B5C;\n",
              "      --hover-fill-color: #FFFFFF;\n",
              "      --disabled-bg-color: #3B4455;\n",
              "      --disabled-fill-color: #666;\n",
              "  }\n",
              "\n",
              "  .colab-df-quickchart {\n",
              "    background-color: var(--bg-color);\n",
              "    border: none;\n",
              "    border-radius: 50%;\n",
              "    cursor: pointer;\n",
              "    display: none;\n",
              "    fill: var(--fill-color);\n",
              "    height: 32px;\n",
              "    padding: 0;\n",
              "    width: 32px;\n",
              "  }\n",
              "\n",
              "  .colab-df-quickchart:hover {\n",
              "    background-color: var(--hover-bg-color);\n",
              "    box-shadow: 0 1px 2px rgba(60, 64, 67, 0.3), 0 1px 3px 1px rgba(60, 64, 67, 0.15);\n",
              "    fill: var(--button-hover-fill-color);\n",
              "  }\n",
              "\n",
              "  .colab-df-quickchart-complete:disabled,\n",
              "  .colab-df-quickchart-complete:disabled:hover {\n",
              "    background-color: var(--disabled-bg-color);\n",
              "    fill: var(--disabled-fill-color);\n",
              "    box-shadow: none;\n",
              "  }\n",
              "\n",
              "  .colab-df-spinner {\n",
              "    border: 2px solid var(--fill-color);\n",
              "    border-color: transparent;\n",
              "    border-bottom-color: var(--fill-color);\n",
              "    animation:\n",
              "      spin 1s steps(1) infinite;\n",
              "  }\n",
              "\n",
              "  @keyframes spin {\n",
              "    0% {\n",
              "      border-color: transparent;\n",
              "      border-bottom-color: var(--fill-color);\n",
              "      border-left-color: var(--fill-color);\n",
              "    }\n",
              "    20% {\n",
              "      border-color: transparent;\n",
              "      border-left-color: var(--fill-color);\n",
              "      border-top-color: var(--fill-color);\n",
              "    }\n",
              "    30% {\n",
              "      border-color: transparent;\n",
              "      border-left-color: var(--fill-color);\n",
              "      border-top-color: var(--fill-color);\n",
              "      border-right-color: var(--fill-color);\n",
              "    }\n",
              "    40% {\n",
              "      border-color: transparent;\n",
              "      border-right-color: var(--fill-color);\n",
              "      border-top-color: var(--fill-color);\n",
              "    }\n",
              "    60% {\n",
              "      border-color: transparent;\n",
              "      border-right-color: var(--fill-color);\n",
              "    }\n",
              "    80% {\n",
              "      border-color: transparent;\n",
              "      border-right-color: var(--fill-color);\n",
              "      border-bottom-color: var(--fill-color);\n",
              "    }\n",
              "    90% {\n",
              "      border-color: transparent;\n",
              "      border-bottom-color: var(--fill-color);\n",
              "    }\n",
              "  }\n",
              "</style>\n",
              "\n",
              "  <script>\n",
              "    async function quickchart(key) {\n",
              "      const quickchartButtonEl =\n",
              "        document.querySelector('#' + key + ' button');\n",
              "      quickchartButtonEl.disabled = true;  // To prevent multiple clicks.\n",
              "      quickchartButtonEl.classList.add('colab-df-spinner');\n",
              "      try {\n",
              "        const charts = await google.colab.kernel.invokeFunction(\n",
              "            'suggestCharts', [key], {});\n",
              "      } catch (error) {\n",
              "        console.error('Error during call to suggestCharts:', error);\n",
              "      }\n",
              "      quickchartButtonEl.classList.remove('colab-df-spinner');\n",
              "      quickchartButtonEl.classList.add('colab-df-quickchart-complete');\n",
              "    }\n",
              "    (() => {\n",
              "      let quickchartButtonEl =\n",
              "        document.querySelector('#df-a5a0d1f0-f9ec-40ea-ac18-aa52669e28ae button');\n",
              "      quickchartButtonEl.style.display =\n",
              "        google.colab.kernel.accessAllowed ? 'block' : 'none';\n",
              "    })();\n",
              "  </script>\n",
              "</div>\n",
              "    </div>\n",
              "  </div>\n"
            ]
          },
          "metadata": {},
          "execution_count": 60
        }
      ]
    },
    {
      "cell_type": "code",
      "source": [
        "df1.shape"
      ],
      "metadata": {
        "colab": {
          "base_uri": "https://localhost:8080/"
        },
        "id": "AM_g1nRbSPo8",
        "outputId": "5f5989ab-e3aa-4459-8d2a-996a49c99916"
      },
      "execution_count": null,
      "outputs": [
        {
          "output_type": "execute_result",
          "data": {
            "text/plain": [
              "(950, 9)"
            ]
          },
          "metadata": {},
          "execution_count": 61
        }
      ]
    },
    {
      "cell_type": "code",
      "source": [
        "df1.isnull().sum()"
      ],
      "metadata": {
        "colab": {
          "base_uri": "https://localhost:8080/"
        },
        "id": "WKQPUPDkiqIS",
        "outputId": "cdee38dc-91e3-41d3-e07c-cab497fdf9d3"
      },
      "execution_count": null,
      "outputs": [
        {
          "output_type": "execute_result",
          "data": {
            "text/plain": [
              "Title        0\n",
              "Location     0\n",
              "Type         0\n",
              "Rooms        0\n",
              "Size (m²)    0\n",
              "Start        0\n",
              "End          0\n",
              "Price        0\n",
              "Link         0\n",
              "dtype: int64"
            ]
          },
          "metadata": {},
          "execution_count": 3
        }
      ]
    },
    {
      "cell_type": "code",
      "source": [
        "df2 = pd.read_csv('bostad2.txt')\n",
        "df2.head(7)"
      ],
      "metadata": {
        "colab": {
          "base_uri": "https://localhost:8080/",
          "height": 408
        },
        "id": "8ZW_SEPigyOj",
        "outputId": "d19999ad-dc4c-4d26-8f1f-1ea3daaf92f4"
      },
      "execution_count": null,
      "outputs": [
        {
          "output_type": "execute_result",
          "data": {
            "text/plain": [
              "       ID            Published           Type Furnished Accomodate  \\\n",
              "0  676664   15 September 13:56      Apartment       Yes          2   \n",
              "1  676663   15 September 13:56  Terrace house       Yes          6   \n",
              "2  429113   15 September 13:51      Apartment        No          2   \n",
              "3  676661   15 September 13:50      Apartment        No          2   \n",
              "4  676644   15 September 13:48          House       Yes          4   \n",
              "5  676660   15 September 13:47      Apartment       Yes          2   \n",
              "6  676654   15 September 13:47      Apartment        No          6   \n",
              "\n",
              "                                         Description              LandLord  \\\n",
              "0   Möblerad  2:a    -  Gröndal  -  Ett  år   I  ...        Be Resident AB   \n",
              "1   Corporate  housing:  Apartment  of  72  sqm  ...       YourStay Sweden   \n",
              "2  En stor nyrenoverad lägenhet nära Jakobsberg c...                 Somia   \n",
              "3   3  rum  och  kök    Ledig    1  januari    Pa...       TG FASTIGHETER    \n",
              "4  Detta är ett område som erbjuder det mesta och...                Haroon   \n",
              "5  Lägenheten är placerat på Jakobsbergs centrum,...  Fredrik Nils Lennart   \n",
              "6  Möjligt att hyra depositionsfritt genom Samtry...             Not found   \n",
              "\n",
              "           Address        City Rooms  Size (m²)  \\\n",
              "0  Ekensbergsvägen   Stockholm    2        28.0   \n",
              "1      Reginavägen       Malmö    3        72.0   \n",
              "2     Allmogevägen    Järfälla    2        65.0   \n",
              "3    Hagmarksgatan   Linköping    3        82.0   \n",
              "4    Gullvivegränd    Hässelby    5       140.0   \n",
              "5    Tornérplatsen    Järfälla  2.5        70.0   \n",
              "6     Osbacksvägen   Norrtälje    5       105.0   \n",
              "\n",
              "                                             Kitchen  \\\n",
              "0  ['Kitchen', 'Fridge', 'Freezer', 'Oven', 'Stov...   \n",
              "1  ['Kitchen', 'Fridge', 'Freezer', 'Oven', 'Stov...   \n",
              "2  ['Kitchen', 'Fridge', 'Freezer', 'Oven', 'Stov...   \n",
              "3  ['Kitchen', 'Fridge', 'Freezer', 'Oven', 'Stov...   \n",
              "4  ['Kitchen', 'Fridge', 'Freezer', 'Oven', 'Stov...   \n",
              "5  ['Kitchen', 'Fridge', 'Freezer', 'Oven', 'Stov...   \n",
              "6  ['Kitchen', 'Fridge', 'Freezer', 'Oven', 'Stov...   \n",
              "\n",
              "                                            Bathroom  \n",
              "0  ['Shower', 'Toilet', 'Washroom', 'Washing mach...  \n",
              "1  ['Shower', 'Toilet', 'Washroom', 'Washing mach...  \n",
              "2  ['Shower', 'Toilet', 'Washroom', 'Washing mach...  \n",
              "3  ['Shower', 'Toilet', 'Washroom', 'Washing mach...  \n",
              "4  ['Shower', 'Toilet', 'Washroom', 'Washing mach...  \n",
              "5  ['Shower', 'Toilet', 'Washroom', 'Washing mach...  \n",
              "6  ['Shower', 'Toilet', 'Washroom', 'Washing mach...  "
            ],
            "text/html": [
              "\n",
              "  <div id=\"df-1397838c-208c-4467-b9ef-49219ad56582\" class=\"colab-df-container\">\n",
              "    <div>\n",
              "<style scoped>\n",
              "    .dataframe tbody tr th:only-of-type {\n",
              "        vertical-align: middle;\n",
              "    }\n",
              "\n",
              "    .dataframe tbody tr th {\n",
              "        vertical-align: top;\n",
              "    }\n",
              "\n",
              "    .dataframe thead th {\n",
              "        text-align: right;\n",
              "    }\n",
              "</style>\n",
              "<table border=\"1\" class=\"dataframe\">\n",
              "  <thead>\n",
              "    <tr style=\"text-align: right;\">\n",
              "      <th></th>\n",
              "      <th>ID</th>\n",
              "      <th>Published</th>\n",
              "      <th>Type</th>\n",
              "      <th>Furnished</th>\n",
              "      <th>Accomodate</th>\n",
              "      <th>Description</th>\n",
              "      <th>LandLord</th>\n",
              "      <th>Address</th>\n",
              "      <th>City</th>\n",
              "      <th>Rooms</th>\n",
              "      <th>Size (m²)</th>\n",
              "      <th>Kitchen</th>\n",
              "      <th>Bathroom</th>\n",
              "    </tr>\n",
              "  </thead>\n",
              "  <tbody>\n",
              "    <tr>\n",
              "      <th>0</th>\n",
              "      <td>676664</td>\n",
              "      <td>15 September 13:56</td>\n",
              "      <td>Apartment</td>\n",
              "      <td>Yes</td>\n",
              "      <td>2</td>\n",
              "      <td>Möblerad  2:a    -  Gröndal  -  Ett  år   I  ...</td>\n",
              "      <td>Be Resident AB</td>\n",
              "      <td>Ekensbergsvägen</td>\n",
              "      <td>Stockholm</td>\n",
              "      <td>2</td>\n",
              "      <td>28.0</td>\n",
              "      <td>['Kitchen', 'Fridge', 'Freezer', 'Oven', 'Stov...</td>\n",
              "      <td>['Shower', 'Toilet', 'Washroom', 'Washing mach...</td>\n",
              "    </tr>\n",
              "    <tr>\n",
              "      <th>1</th>\n",
              "      <td>676663</td>\n",
              "      <td>15 September 13:56</td>\n",
              "      <td>Terrace house</td>\n",
              "      <td>Yes</td>\n",
              "      <td>6</td>\n",
              "      <td>Corporate  housing:  Apartment  of  72  sqm  ...</td>\n",
              "      <td>YourStay Sweden</td>\n",
              "      <td>Reginavägen</td>\n",
              "      <td>Malmö</td>\n",
              "      <td>3</td>\n",
              "      <td>72.0</td>\n",
              "      <td>['Kitchen', 'Fridge', 'Freezer', 'Oven', 'Stov...</td>\n",
              "      <td>['Shower', 'Toilet', 'Washroom', 'Washing mach...</td>\n",
              "    </tr>\n",
              "    <tr>\n",
              "      <th>2</th>\n",
              "      <td>429113</td>\n",
              "      <td>15 September 13:51</td>\n",
              "      <td>Apartment</td>\n",
              "      <td>No</td>\n",
              "      <td>2</td>\n",
              "      <td>En stor nyrenoverad lägenhet nära Jakobsberg c...</td>\n",
              "      <td>Somia</td>\n",
              "      <td>Allmogevägen</td>\n",
              "      <td>Järfälla</td>\n",
              "      <td>2</td>\n",
              "      <td>65.0</td>\n",
              "      <td>['Kitchen', 'Fridge', 'Freezer', 'Oven', 'Stov...</td>\n",
              "      <td>['Shower', 'Toilet', 'Washroom', 'Washing mach...</td>\n",
              "    </tr>\n",
              "    <tr>\n",
              "      <th>3</th>\n",
              "      <td>676661</td>\n",
              "      <td>15 September 13:50</td>\n",
              "      <td>Apartment</td>\n",
              "      <td>No</td>\n",
              "      <td>2</td>\n",
              "      <td>3  rum  och  kök    Ledig    1  januari    Pa...</td>\n",
              "      <td>TG FASTIGHETER</td>\n",
              "      <td>Hagmarksgatan</td>\n",
              "      <td>Linköping</td>\n",
              "      <td>3</td>\n",
              "      <td>82.0</td>\n",
              "      <td>['Kitchen', 'Fridge', 'Freezer', 'Oven', 'Stov...</td>\n",
              "      <td>['Shower', 'Toilet', 'Washroom', 'Washing mach...</td>\n",
              "    </tr>\n",
              "    <tr>\n",
              "      <th>4</th>\n",
              "      <td>676644</td>\n",
              "      <td>15 September 13:48</td>\n",
              "      <td>House</td>\n",
              "      <td>Yes</td>\n",
              "      <td>4</td>\n",
              "      <td>Detta är ett område som erbjuder det mesta och...</td>\n",
              "      <td>Haroon</td>\n",
              "      <td>Gullvivegränd</td>\n",
              "      <td>Hässelby</td>\n",
              "      <td>5</td>\n",
              "      <td>140.0</td>\n",
              "      <td>['Kitchen', 'Fridge', 'Freezer', 'Oven', 'Stov...</td>\n",
              "      <td>['Shower', 'Toilet', 'Washroom', 'Washing mach...</td>\n",
              "    </tr>\n",
              "    <tr>\n",
              "      <th>5</th>\n",
              "      <td>676660</td>\n",
              "      <td>15 September 13:47</td>\n",
              "      <td>Apartment</td>\n",
              "      <td>Yes</td>\n",
              "      <td>2</td>\n",
              "      <td>Lägenheten är placerat på Jakobsbergs centrum,...</td>\n",
              "      <td>Fredrik Nils Lennart</td>\n",
              "      <td>Tornérplatsen</td>\n",
              "      <td>Järfälla</td>\n",
              "      <td>2.5</td>\n",
              "      <td>70.0</td>\n",
              "      <td>['Kitchen', 'Fridge', 'Freezer', 'Oven', 'Stov...</td>\n",
              "      <td>['Shower', 'Toilet', 'Washroom', 'Washing mach...</td>\n",
              "    </tr>\n",
              "    <tr>\n",
              "      <th>6</th>\n",
              "      <td>676654</td>\n",
              "      <td>15 September 13:47</td>\n",
              "      <td>Apartment</td>\n",
              "      <td>No</td>\n",
              "      <td>6</td>\n",
              "      <td>Möjligt att hyra depositionsfritt genom Samtry...</td>\n",
              "      <td>Not found</td>\n",
              "      <td>Osbacksvägen</td>\n",
              "      <td>Norrtälje</td>\n",
              "      <td>5</td>\n",
              "      <td>105.0</td>\n",
              "      <td>['Kitchen', 'Fridge', 'Freezer', 'Oven', 'Stov...</td>\n",
              "      <td>['Shower', 'Toilet', 'Washroom', 'Washing mach...</td>\n",
              "    </tr>\n",
              "  </tbody>\n",
              "</table>\n",
              "</div>\n",
              "    <div class=\"colab-df-buttons\">\n",
              "\n",
              "  <div class=\"colab-df-container\">\n",
              "    <button class=\"colab-df-convert\" onclick=\"convertToInteractive('df-1397838c-208c-4467-b9ef-49219ad56582')\"\n",
              "            title=\"Convert this dataframe to an interactive table.\"\n",
              "            style=\"display:none;\">\n",
              "\n",
              "  <svg xmlns=\"http://www.w3.org/2000/svg\" height=\"24px\" viewBox=\"0 -960 960 960\">\n",
              "    <path d=\"M120-120v-720h720v720H120Zm60-500h600v-160H180v160Zm220 220h160v-160H400v160Zm0 220h160v-160H400v160ZM180-400h160v-160H180v160Zm440 0h160v-160H620v160ZM180-180h160v-160H180v160Zm440 0h160v-160H620v160Z\"/>\n",
              "  </svg>\n",
              "    </button>\n",
              "\n",
              "  <style>\n",
              "    .colab-df-container {\n",
              "      display:flex;\n",
              "      gap: 12px;\n",
              "    }\n",
              "\n",
              "    .colab-df-convert {\n",
              "      background-color: #E8F0FE;\n",
              "      border: none;\n",
              "      border-radius: 50%;\n",
              "      cursor: pointer;\n",
              "      display: none;\n",
              "      fill: #1967D2;\n",
              "      height: 32px;\n",
              "      padding: 0 0 0 0;\n",
              "      width: 32px;\n",
              "    }\n",
              "\n",
              "    .colab-df-convert:hover {\n",
              "      background-color: #E2EBFA;\n",
              "      box-shadow: 0px 1px 2px rgba(60, 64, 67, 0.3), 0px 1px 3px 1px rgba(60, 64, 67, 0.15);\n",
              "      fill: #174EA6;\n",
              "    }\n",
              "\n",
              "    .colab-df-buttons div {\n",
              "      margin-bottom: 4px;\n",
              "    }\n",
              "\n",
              "    [theme=dark] .colab-df-convert {\n",
              "      background-color: #3B4455;\n",
              "      fill: #D2E3FC;\n",
              "    }\n",
              "\n",
              "    [theme=dark] .colab-df-convert:hover {\n",
              "      background-color: #434B5C;\n",
              "      box-shadow: 0px 1px 3px 1px rgba(0, 0, 0, 0.15);\n",
              "      filter: drop-shadow(0px 1px 2px rgba(0, 0, 0, 0.3));\n",
              "      fill: #FFFFFF;\n",
              "    }\n",
              "  </style>\n",
              "\n",
              "    <script>\n",
              "      const buttonEl =\n",
              "        document.querySelector('#df-1397838c-208c-4467-b9ef-49219ad56582 button.colab-df-convert');\n",
              "      buttonEl.style.display =\n",
              "        google.colab.kernel.accessAllowed ? 'block' : 'none';\n",
              "\n",
              "      async function convertToInteractive(key) {\n",
              "        const element = document.querySelector('#df-1397838c-208c-4467-b9ef-49219ad56582');\n",
              "        const dataTable =\n",
              "          await google.colab.kernel.invokeFunction('convertToInteractive',\n",
              "                                                    [key], {});\n",
              "        if (!dataTable) return;\n",
              "\n",
              "        const docLinkHtml = 'Like what you see? Visit the ' +\n",
              "          '<a target=\"_blank\" href=https://colab.research.google.com/notebooks/data_table.ipynb>data table notebook</a>'\n",
              "          + ' to learn more about interactive tables.';\n",
              "        element.innerHTML = '';\n",
              "        dataTable['output_type'] = 'display_data';\n",
              "        await google.colab.output.renderOutput(dataTable, element);\n",
              "        const docLink = document.createElement('div');\n",
              "        docLink.innerHTML = docLinkHtml;\n",
              "        element.appendChild(docLink);\n",
              "      }\n",
              "    </script>\n",
              "  </div>\n",
              "\n",
              "\n",
              "<div id=\"df-92a6abe5-5e01-4368-be90-8f79a8beba42\">\n",
              "  <button class=\"colab-df-quickchart\" onclick=\"quickchart('df-92a6abe5-5e01-4368-be90-8f79a8beba42')\"\n",
              "            title=\"Suggest charts.\"\n",
              "            style=\"display:none;\">\n",
              "\n",
              "<svg xmlns=\"http://www.w3.org/2000/svg\" height=\"24px\"viewBox=\"0 0 24 24\"\n",
              "     width=\"24px\">\n",
              "    <g>\n",
              "        <path d=\"M19 3H5c-1.1 0-2 .9-2 2v14c0 1.1.9 2 2 2h14c1.1 0 2-.9 2-2V5c0-1.1-.9-2-2-2zM9 17H7v-7h2v7zm4 0h-2V7h2v10zm4 0h-2v-4h2v4z\"/>\n",
              "    </g>\n",
              "</svg>\n",
              "  </button>\n",
              "\n",
              "<style>\n",
              "  .colab-df-quickchart {\n",
              "      --bg-color: #E8F0FE;\n",
              "      --fill-color: #1967D2;\n",
              "      --hover-bg-color: #E2EBFA;\n",
              "      --hover-fill-color: #174EA6;\n",
              "      --disabled-fill-color: #AAA;\n",
              "      --disabled-bg-color: #DDD;\n",
              "  }\n",
              "\n",
              "  [theme=dark] .colab-df-quickchart {\n",
              "      --bg-color: #3B4455;\n",
              "      --fill-color: #D2E3FC;\n",
              "      --hover-bg-color: #434B5C;\n",
              "      --hover-fill-color: #FFFFFF;\n",
              "      --disabled-bg-color: #3B4455;\n",
              "      --disabled-fill-color: #666;\n",
              "  }\n",
              "\n",
              "  .colab-df-quickchart {\n",
              "    background-color: var(--bg-color);\n",
              "    border: none;\n",
              "    border-radius: 50%;\n",
              "    cursor: pointer;\n",
              "    display: none;\n",
              "    fill: var(--fill-color);\n",
              "    height: 32px;\n",
              "    padding: 0;\n",
              "    width: 32px;\n",
              "  }\n",
              "\n",
              "  .colab-df-quickchart:hover {\n",
              "    background-color: var(--hover-bg-color);\n",
              "    box-shadow: 0 1px 2px rgba(60, 64, 67, 0.3), 0 1px 3px 1px rgba(60, 64, 67, 0.15);\n",
              "    fill: var(--button-hover-fill-color);\n",
              "  }\n",
              "\n",
              "  .colab-df-quickchart-complete:disabled,\n",
              "  .colab-df-quickchart-complete:disabled:hover {\n",
              "    background-color: var(--disabled-bg-color);\n",
              "    fill: var(--disabled-fill-color);\n",
              "    box-shadow: none;\n",
              "  }\n",
              "\n",
              "  .colab-df-spinner {\n",
              "    border: 2px solid var(--fill-color);\n",
              "    border-color: transparent;\n",
              "    border-bottom-color: var(--fill-color);\n",
              "    animation:\n",
              "      spin 1s steps(1) infinite;\n",
              "  }\n",
              "\n",
              "  @keyframes spin {\n",
              "    0% {\n",
              "      border-color: transparent;\n",
              "      border-bottom-color: var(--fill-color);\n",
              "      border-left-color: var(--fill-color);\n",
              "    }\n",
              "    20% {\n",
              "      border-color: transparent;\n",
              "      border-left-color: var(--fill-color);\n",
              "      border-top-color: var(--fill-color);\n",
              "    }\n",
              "    30% {\n",
              "      border-color: transparent;\n",
              "      border-left-color: var(--fill-color);\n",
              "      border-top-color: var(--fill-color);\n",
              "      border-right-color: var(--fill-color);\n",
              "    }\n",
              "    40% {\n",
              "      border-color: transparent;\n",
              "      border-right-color: var(--fill-color);\n",
              "      border-top-color: var(--fill-color);\n",
              "    }\n",
              "    60% {\n",
              "      border-color: transparent;\n",
              "      border-right-color: var(--fill-color);\n",
              "    }\n",
              "    80% {\n",
              "      border-color: transparent;\n",
              "      border-right-color: var(--fill-color);\n",
              "      border-bottom-color: var(--fill-color);\n",
              "    }\n",
              "    90% {\n",
              "      border-color: transparent;\n",
              "      border-bottom-color: var(--fill-color);\n",
              "    }\n",
              "  }\n",
              "</style>\n",
              "\n",
              "  <script>\n",
              "    async function quickchart(key) {\n",
              "      const quickchartButtonEl =\n",
              "        document.querySelector('#' + key + ' button');\n",
              "      quickchartButtonEl.disabled = true;  // To prevent multiple clicks.\n",
              "      quickchartButtonEl.classList.add('colab-df-spinner');\n",
              "      try {\n",
              "        const charts = await google.colab.kernel.invokeFunction(\n",
              "            'suggestCharts', [key], {});\n",
              "      } catch (error) {\n",
              "        console.error('Error during call to suggestCharts:', error);\n",
              "      }\n",
              "      quickchartButtonEl.classList.remove('colab-df-spinner');\n",
              "      quickchartButtonEl.classList.add('colab-df-quickchart-complete');\n",
              "    }\n",
              "    (() => {\n",
              "      let quickchartButtonEl =\n",
              "        document.querySelector('#df-92a6abe5-5e01-4368-be90-8f79a8beba42 button');\n",
              "      quickchartButtonEl.style.display =\n",
              "        google.colab.kernel.accessAllowed ? 'block' : 'none';\n",
              "    })();\n",
              "  </script>\n",
              "</div>\n",
              "    </div>\n",
              "  </div>\n"
            ]
          },
          "metadata": {},
          "execution_count": 62
        }
      ]
    },
    {
      "cell_type": "code",
      "source": [
        "df2.shape"
      ],
      "metadata": {
        "colab": {
          "base_uri": "https://localhost:8080/"
        },
        "id": "06A4CBkaTOzL",
        "outputId": "87100e8e-7cb4-4f63-b157-03e538f83af7"
      },
      "execution_count": null,
      "outputs": [
        {
          "output_type": "execute_result",
          "data": {
            "text/plain": [
              "(950, 13)"
            ]
          },
          "metadata": {},
          "execution_count": 63
        }
      ]
    },
    {
      "cell_type": "code",
      "source": [
        "df2.isnull().sum()"
      ],
      "metadata": {
        "colab": {
          "base_uri": "https://localhost:8080/"
        },
        "id": "9VjxhbfmhhXU",
        "outputId": "0a42692e-11de-4b52-ac38-a6f5fe6a32ad"
      },
      "execution_count": null,
      "outputs": [
        {
          "output_type": "execute_result",
          "data": {
            "text/plain": [
              "ID             0\n",
              "Published      0\n",
              "Type           0\n",
              "Furnished      0\n",
              "Accomodate     0\n",
              "Description    0\n",
              "LandLord       0\n",
              "Address        0\n",
              "City           0\n",
              "Rooms          0\n",
              "Size (m²)      4\n",
              "Kitchen        0\n",
              "Bathroom       0\n",
              "dtype: int64"
            ]
          },
          "metadata": {},
          "execution_count": 5
        }
      ]
    },
    {
      "cell_type": "code",
      "source": [
        "index = df2['Size (m²)'].index[df2['Size (m²)'].apply(np.isnan)]\n",
        "index"
      ],
      "metadata": {
        "colab": {
          "base_uri": "https://localhost:8080/"
        },
        "id": "6LPxKJUziyt-",
        "outputId": "bf49c743-c329-4ad1-cc8b-a2b0ac30e7fa"
      },
      "execution_count": null,
      "outputs": [
        {
          "output_type": "execute_result",
          "data": {
            "text/plain": [
              "Int64Index([357, 406, 579, 896], dtype='int64')"
            ]
          },
          "metadata": {},
          "execution_count": 6
        }
      ]
    },
    {
      "cell_type": "code",
      "source": [
        "df1 = df1.drop(index)\n",
        "df1 = df1.reset_index(drop=True)\n",
        "df1.shape"
      ],
      "metadata": {
        "colab": {
          "base_uri": "https://localhost:8080/"
        },
        "id": "VhiZTontkQp9",
        "outputId": "bd35fa45-f212-407d-cdad-fb582c7440b4"
      },
      "execution_count": null,
      "outputs": [
        {
          "output_type": "execute_result",
          "data": {
            "text/plain": [
              "(946, 9)"
            ]
          },
          "metadata": {},
          "execution_count": 7
        }
      ]
    },
    {
      "cell_type": "code",
      "source": [
        "df2 = df2.dropna().reset_index(drop=True)\n",
        "df2.shape"
      ],
      "metadata": {
        "colab": {
          "base_uri": "https://localhost:8080/"
        },
        "id": "7lrkxBIsjkPu",
        "outputId": "84cd1b69-73ae-4edd-e68e-56b418d093f9"
      },
      "execution_count": null,
      "outputs": [
        {
          "output_type": "execute_result",
          "data": {
            "text/plain": [
              "(946, 13)"
            ]
          },
          "metadata": {},
          "execution_count": 8
        }
      ]
    },
    {
      "cell_type": "code",
      "source": [
        "selectedCol = df1[['Price','Start','End']]\n",
        "df = df2.join(selectedCol, how='outer')"
      ],
      "metadata": {
        "id": "LCfM1mhjmFOk"
      },
      "execution_count": null,
      "outputs": []
    },
    {
      "cell_type": "code",
      "source": [
        "df.head(5)"
      ],
      "metadata": {
        "colab": {
          "base_uri": "https://localhost:8080/",
          "height": 571
        },
        "id": "mcxIEFCTmvBH",
        "outputId": "05e44b9b-2a6c-4c94-e0ef-f3518379f528"
      },
      "execution_count": null,
      "outputs": [
        {
          "output_type": "execute_result",
          "data": {
            "text/plain": [
              "       ID            Published           Type Furnished  Accomodate  \\\n",
              "0  676664   15 September 13:56      Apartment       Yes           2   \n",
              "1  676663   15 September 13:56  Terrace house       Yes           6   \n",
              "2  429113   15 September 13:51      Apartment        No           2   \n",
              "3  676661   15 September 13:50      Apartment        No           2   \n",
              "4  676644   15 September 13:48          House       Yes           4   \n",
              "\n",
              "                                         Description         LandLord  \\\n",
              "0   Möblerad  2:a    -  Gröndal  -  Ett  år   I  ...   Be Resident AB   \n",
              "1   Corporate  housing:  Apartment  of  72  sqm  ...  YourStay Sweden   \n",
              "2  En stor nyrenoverad lägenhet nära Jakobsberg c...            Somia   \n",
              "3   3  rum  och  kök    Ledig    1  januari    Pa...  TG FASTIGHETER    \n",
              "4  Detta är ett område som erbjuder det mesta och...           Haroon   \n",
              "\n",
              "           Address        City  Rooms  Size (m²)  \\\n",
              "0  Ekensbergsvägen   Stockholm    2.0       28.0   \n",
              "1      Reginavägen       Malmö    3.0       72.0   \n",
              "2     Allmogevägen    Järfälla    2.0       65.0   \n",
              "3    Hagmarksgatan   Linköping    3.0       82.0   \n",
              "4    Gullvivegränd    Hässelby    5.0      140.0   \n",
              "\n",
              "                                             Kitchen  \\\n",
              "0  ['Kitchen', 'Fridge', 'Freezer', 'Oven', 'Stov...   \n",
              "1  ['Kitchen', 'Fridge', 'Freezer', 'Oven', 'Stov...   \n",
              "2  ['Kitchen', 'Fridge', 'Freezer', 'Oven', 'Stov...   \n",
              "3  ['Kitchen', 'Fridge', 'Freezer', 'Oven', 'Stov...   \n",
              "4  ['Kitchen', 'Fridge', 'Freezer', 'Oven', 'Stov...   \n",
              "\n",
              "                                            Bathroom  Price       Start  \\\n",
              "0  ['Shower', 'Toilet', 'Washroom', 'Washing mach...  12500  2023-10-01   \n",
              "1  ['Shower', 'Toilet', 'Washroom', 'Washing mach...  25500         Now   \n",
              "2  ['Shower', 'Toilet', 'Washroom', 'Washing mach...  15742         Now   \n",
              "3  ['Shower', 'Toilet', 'Washroom', 'Washing mach...   8975  2024-01-01   \n",
              "4  ['Shower', 'Toilet', 'Washroom', 'Washing mach...  30435  2023-12-01   \n",
              "\n",
              "                    End  Price Category Size Categories  \n",
              "0            2024-09-30          Medium           Small  \n",
              "1  Until further notice       Very High           Large  \n",
              "2  Until further notice            High           Large  \n",
              "3  Until further notice           Small      Very Large  \n",
              "4  Until further notice  Very Very High     Extra Large  "
            ],
            "text/html": [
              "\n",
              "  <div id=\"df-a954154a-8341-4e24-8603-e178971c01f6\" class=\"colab-df-container\">\n",
              "    <div>\n",
              "<style scoped>\n",
              "    .dataframe tbody tr th:only-of-type {\n",
              "        vertical-align: middle;\n",
              "    }\n",
              "\n",
              "    .dataframe tbody tr th {\n",
              "        vertical-align: top;\n",
              "    }\n",
              "\n",
              "    .dataframe thead th {\n",
              "        text-align: right;\n",
              "    }\n",
              "</style>\n",
              "<table border=\"1\" class=\"dataframe\">\n",
              "  <thead>\n",
              "    <tr style=\"text-align: right;\">\n",
              "      <th></th>\n",
              "      <th>ID</th>\n",
              "      <th>Published</th>\n",
              "      <th>Type</th>\n",
              "      <th>Furnished</th>\n",
              "      <th>Accomodate</th>\n",
              "      <th>Description</th>\n",
              "      <th>LandLord</th>\n",
              "      <th>Address</th>\n",
              "      <th>City</th>\n",
              "      <th>Rooms</th>\n",
              "      <th>Size (m²)</th>\n",
              "      <th>Kitchen</th>\n",
              "      <th>Bathroom</th>\n",
              "      <th>Price</th>\n",
              "      <th>Start</th>\n",
              "      <th>End</th>\n",
              "      <th>Price Category</th>\n",
              "      <th>Size Categories</th>\n",
              "    </tr>\n",
              "  </thead>\n",
              "  <tbody>\n",
              "    <tr>\n",
              "      <th>0</th>\n",
              "      <td>676664</td>\n",
              "      <td>15 September 13:56</td>\n",
              "      <td>Apartment</td>\n",
              "      <td>Yes</td>\n",
              "      <td>2</td>\n",
              "      <td>Möblerad  2:a    -  Gröndal  -  Ett  år   I  ...</td>\n",
              "      <td>Be Resident AB</td>\n",
              "      <td>Ekensbergsvägen</td>\n",
              "      <td>Stockholm</td>\n",
              "      <td>2.0</td>\n",
              "      <td>28.0</td>\n",
              "      <td>['Kitchen', 'Fridge', 'Freezer', 'Oven', 'Stov...</td>\n",
              "      <td>['Shower', 'Toilet', 'Washroom', 'Washing mach...</td>\n",
              "      <td>12500</td>\n",
              "      <td>2023-10-01</td>\n",
              "      <td>2024-09-30</td>\n",
              "      <td>Medium</td>\n",
              "      <td>Small</td>\n",
              "    </tr>\n",
              "    <tr>\n",
              "      <th>1</th>\n",
              "      <td>676663</td>\n",
              "      <td>15 September 13:56</td>\n",
              "      <td>Terrace house</td>\n",
              "      <td>Yes</td>\n",
              "      <td>6</td>\n",
              "      <td>Corporate  housing:  Apartment  of  72  sqm  ...</td>\n",
              "      <td>YourStay Sweden</td>\n",
              "      <td>Reginavägen</td>\n",
              "      <td>Malmö</td>\n",
              "      <td>3.0</td>\n",
              "      <td>72.0</td>\n",
              "      <td>['Kitchen', 'Fridge', 'Freezer', 'Oven', 'Stov...</td>\n",
              "      <td>['Shower', 'Toilet', 'Washroom', 'Washing mach...</td>\n",
              "      <td>25500</td>\n",
              "      <td>Now</td>\n",
              "      <td>Until further notice</td>\n",
              "      <td>Very High</td>\n",
              "      <td>Large</td>\n",
              "    </tr>\n",
              "    <tr>\n",
              "      <th>2</th>\n",
              "      <td>429113</td>\n",
              "      <td>15 September 13:51</td>\n",
              "      <td>Apartment</td>\n",
              "      <td>No</td>\n",
              "      <td>2</td>\n",
              "      <td>En stor nyrenoverad lägenhet nära Jakobsberg c...</td>\n",
              "      <td>Somia</td>\n",
              "      <td>Allmogevägen</td>\n",
              "      <td>Järfälla</td>\n",
              "      <td>2.0</td>\n",
              "      <td>65.0</td>\n",
              "      <td>['Kitchen', 'Fridge', 'Freezer', 'Oven', 'Stov...</td>\n",
              "      <td>['Shower', 'Toilet', 'Washroom', 'Washing mach...</td>\n",
              "      <td>15742</td>\n",
              "      <td>Now</td>\n",
              "      <td>Until further notice</td>\n",
              "      <td>High</td>\n",
              "      <td>Large</td>\n",
              "    </tr>\n",
              "    <tr>\n",
              "      <th>3</th>\n",
              "      <td>676661</td>\n",
              "      <td>15 September 13:50</td>\n",
              "      <td>Apartment</td>\n",
              "      <td>No</td>\n",
              "      <td>2</td>\n",
              "      <td>3  rum  och  kök    Ledig    1  januari    Pa...</td>\n",
              "      <td>TG FASTIGHETER</td>\n",
              "      <td>Hagmarksgatan</td>\n",
              "      <td>Linköping</td>\n",
              "      <td>3.0</td>\n",
              "      <td>82.0</td>\n",
              "      <td>['Kitchen', 'Fridge', 'Freezer', 'Oven', 'Stov...</td>\n",
              "      <td>['Shower', 'Toilet', 'Washroom', 'Washing mach...</td>\n",
              "      <td>8975</td>\n",
              "      <td>2024-01-01</td>\n",
              "      <td>Until further notice</td>\n",
              "      <td>Small</td>\n",
              "      <td>Very Large</td>\n",
              "    </tr>\n",
              "    <tr>\n",
              "      <th>4</th>\n",
              "      <td>676644</td>\n",
              "      <td>15 September 13:48</td>\n",
              "      <td>House</td>\n",
              "      <td>Yes</td>\n",
              "      <td>4</td>\n",
              "      <td>Detta är ett område som erbjuder det mesta och...</td>\n",
              "      <td>Haroon</td>\n",
              "      <td>Gullvivegränd</td>\n",
              "      <td>Hässelby</td>\n",
              "      <td>5.0</td>\n",
              "      <td>140.0</td>\n",
              "      <td>['Kitchen', 'Fridge', 'Freezer', 'Oven', 'Stov...</td>\n",
              "      <td>['Shower', 'Toilet', 'Washroom', 'Washing mach...</td>\n",
              "      <td>30435</td>\n",
              "      <td>2023-12-01</td>\n",
              "      <td>Until further notice</td>\n",
              "      <td>Very Very High</td>\n",
              "      <td>Extra Large</td>\n",
              "    </tr>\n",
              "  </tbody>\n",
              "</table>\n",
              "</div>\n",
              "    <div class=\"colab-df-buttons\">\n",
              "\n",
              "  <div class=\"colab-df-container\">\n",
              "    <button class=\"colab-df-convert\" onclick=\"convertToInteractive('df-a954154a-8341-4e24-8603-e178971c01f6')\"\n",
              "            title=\"Convert this dataframe to an interactive table.\"\n",
              "            style=\"display:none;\">\n",
              "\n",
              "  <svg xmlns=\"http://www.w3.org/2000/svg\" height=\"24px\" viewBox=\"0 -960 960 960\">\n",
              "    <path d=\"M120-120v-720h720v720H120Zm60-500h600v-160H180v160Zm220 220h160v-160H400v160Zm0 220h160v-160H400v160ZM180-400h160v-160H180v160Zm440 0h160v-160H620v160ZM180-180h160v-160H180v160Zm440 0h160v-160H620v160Z\"/>\n",
              "  </svg>\n",
              "    </button>\n",
              "\n",
              "  <style>\n",
              "    .colab-df-container {\n",
              "      display:flex;\n",
              "      gap: 12px;\n",
              "    }\n",
              "\n",
              "    .colab-df-convert {\n",
              "      background-color: #E8F0FE;\n",
              "      border: none;\n",
              "      border-radius: 50%;\n",
              "      cursor: pointer;\n",
              "      display: none;\n",
              "      fill: #1967D2;\n",
              "      height: 32px;\n",
              "      padding: 0 0 0 0;\n",
              "      width: 32px;\n",
              "    }\n",
              "\n",
              "    .colab-df-convert:hover {\n",
              "      background-color: #E2EBFA;\n",
              "      box-shadow: 0px 1px 2px rgba(60, 64, 67, 0.3), 0px 1px 3px 1px rgba(60, 64, 67, 0.15);\n",
              "      fill: #174EA6;\n",
              "    }\n",
              "\n",
              "    .colab-df-buttons div {\n",
              "      margin-bottom: 4px;\n",
              "    }\n",
              "\n",
              "    [theme=dark] .colab-df-convert {\n",
              "      background-color: #3B4455;\n",
              "      fill: #D2E3FC;\n",
              "    }\n",
              "\n",
              "    [theme=dark] .colab-df-convert:hover {\n",
              "      background-color: #434B5C;\n",
              "      box-shadow: 0px 1px 3px 1px rgba(0, 0, 0, 0.15);\n",
              "      filter: drop-shadow(0px 1px 2px rgba(0, 0, 0, 0.3));\n",
              "      fill: #FFFFFF;\n",
              "    }\n",
              "  </style>\n",
              "\n",
              "    <script>\n",
              "      const buttonEl =\n",
              "        document.querySelector('#df-a954154a-8341-4e24-8603-e178971c01f6 button.colab-df-convert');\n",
              "      buttonEl.style.display =\n",
              "        google.colab.kernel.accessAllowed ? 'block' : 'none';\n",
              "\n",
              "      async function convertToInteractive(key) {\n",
              "        const element = document.querySelector('#df-a954154a-8341-4e24-8603-e178971c01f6');\n",
              "        const dataTable =\n",
              "          await google.colab.kernel.invokeFunction('convertToInteractive',\n",
              "                                                    [key], {});\n",
              "        if (!dataTable) return;\n",
              "\n",
              "        const docLinkHtml = 'Like what you see? Visit the ' +\n",
              "          '<a target=\"_blank\" href=https://colab.research.google.com/notebooks/data_table.ipynb>data table notebook</a>'\n",
              "          + ' to learn more about interactive tables.';\n",
              "        element.innerHTML = '';\n",
              "        dataTable['output_type'] = 'display_data';\n",
              "        await google.colab.output.renderOutput(dataTable, element);\n",
              "        const docLink = document.createElement('div');\n",
              "        docLink.innerHTML = docLinkHtml;\n",
              "        element.appendChild(docLink);\n",
              "      }\n",
              "    </script>\n",
              "  </div>\n",
              "\n",
              "\n",
              "<div id=\"df-6ddae7e9-8fdd-4398-8805-6624e19fee9d\">\n",
              "  <button class=\"colab-df-quickchart\" onclick=\"quickchart('df-6ddae7e9-8fdd-4398-8805-6624e19fee9d')\"\n",
              "            title=\"Suggest charts.\"\n",
              "            style=\"display:none;\">\n",
              "\n",
              "<svg xmlns=\"http://www.w3.org/2000/svg\" height=\"24px\"viewBox=\"0 0 24 24\"\n",
              "     width=\"24px\">\n",
              "    <g>\n",
              "        <path d=\"M19 3H5c-1.1 0-2 .9-2 2v14c0 1.1.9 2 2 2h14c1.1 0 2-.9 2-2V5c0-1.1-.9-2-2-2zM9 17H7v-7h2v7zm4 0h-2V7h2v10zm4 0h-2v-4h2v4z\"/>\n",
              "    </g>\n",
              "</svg>\n",
              "  </button>\n",
              "\n",
              "<style>\n",
              "  .colab-df-quickchart {\n",
              "      --bg-color: #E8F0FE;\n",
              "      --fill-color: #1967D2;\n",
              "      --hover-bg-color: #E2EBFA;\n",
              "      --hover-fill-color: #174EA6;\n",
              "      --disabled-fill-color: #AAA;\n",
              "      --disabled-bg-color: #DDD;\n",
              "  }\n",
              "\n",
              "  [theme=dark] .colab-df-quickchart {\n",
              "      --bg-color: #3B4455;\n",
              "      --fill-color: #D2E3FC;\n",
              "      --hover-bg-color: #434B5C;\n",
              "      --hover-fill-color: #FFFFFF;\n",
              "      --disabled-bg-color: #3B4455;\n",
              "      --disabled-fill-color: #666;\n",
              "  }\n",
              "\n",
              "  .colab-df-quickchart {\n",
              "    background-color: var(--bg-color);\n",
              "    border: none;\n",
              "    border-radius: 50%;\n",
              "    cursor: pointer;\n",
              "    display: none;\n",
              "    fill: var(--fill-color);\n",
              "    height: 32px;\n",
              "    padding: 0;\n",
              "    width: 32px;\n",
              "  }\n",
              "\n",
              "  .colab-df-quickchart:hover {\n",
              "    background-color: var(--hover-bg-color);\n",
              "    box-shadow: 0 1px 2px rgba(60, 64, 67, 0.3), 0 1px 3px 1px rgba(60, 64, 67, 0.15);\n",
              "    fill: var(--button-hover-fill-color);\n",
              "  }\n",
              "\n",
              "  .colab-df-quickchart-complete:disabled,\n",
              "  .colab-df-quickchart-complete:disabled:hover {\n",
              "    background-color: var(--disabled-bg-color);\n",
              "    fill: var(--disabled-fill-color);\n",
              "    box-shadow: none;\n",
              "  }\n",
              "\n",
              "  .colab-df-spinner {\n",
              "    border: 2px solid var(--fill-color);\n",
              "    border-color: transparent;\n",
              "    border-bottom-color: var(--fill-color);\n",
              "    animation:\n",
              "      spin 1s steps(1) infinite;\n",
              "  }\n",
              "\n",
              "  @keyframes spin {\n",
              "    0% {\n",
              "      border-color: transparent;\n",
              "      border-bottom-color: var(--fill-color);\n",
              "      border-left-color: var(--fill-color);\n",
              "    }\n",
              "    20% {\n",
              "      border-color: transparent;\n",
              "      border-left-color: var(--fill-color);\n",
              "      border-top-color: var(--fill-color);\n",
              "    }\n",
              "    30% {\n",
              "      border-color: transparent;\n",
              "      border-left-color: var(--fill-color);\n",
              "      border-top-color: var(--fill-color);\n",
              "      border-right-color: var(--fill-color);\n",
              "    }\n",
              "    40% {\n",
              "      border-color: transparent;\n",
              "      border-right-color: var(--fill-color);\n",
              "      border-top-color: var(--fill-color);\n",
              "    }\n",
              "    60% {\n",
              "      border-color: transparent;\n",
              "      border-right-color: var(--fill-color);\n",
              "    }\n",
              "    80% {\n",
              "      border-color: transparent;\n",
              "      border-right-color: var(--fill-color);\n",
              "      border-bottom-color: var(--fill-color);\n",
              "    }\n",
              "    90% {\n",
              "      border-color: transparent;\n",
              "      border-bottom-color: var(--fill-color);\n",
              "    }\n",
              "  }\n",
              "</style>\n",
              "\n",
              "  <script>\n",
              "    async function quickchart(key) {\n",
              "      const quickchartButtonEl =\n",
              "        document.querySelector('#' + key + ' button');\n",
              "      quickchartButtonEl.disabled = true;  // To prevent multiple clicks.\n",
              "      quickchartButtonEl.classList.add('colab-df-spinner');\n",
              "      try {\n",
              "        const charts = await google.colab.kernel.invokeFunction(\n",
              "            'suggestCharts', [key], {});\n",
              "      } catch (error) {\n",
              "        console.error('Error during call to suggestCharts:', error);\n",
              "      }\n",
              "      quickchartButtonEl.classList.remove('colab-df-spinner');\n",
              "      quickchartButtonEl.classList.add('colab-df-quickchart-complete');\n",
              "    }\n",
              "    (() => {\n",
              "      let quickchartButtonEl =\n",
              "        document.querySelector('#df-6ddae7e9-8fdd-4398-8805-6624e19fee9d button');\n",
              "      quickchartButtonEl.style.display =\n",
              "        google.colab.kernel.accessAllowed ? 'block' : 'none';\n",
              "    })();\n",
              "  </script>\n",
              "</div>\n",
              "    </div>\n",
              "  </div>\n"
            ]
          },
          "metadata": {},
          "execution_count": 65
        }
      ]
    },
    {
      "cell_type": "code",
      "source": [
        "df.shape"
      ],
      "metadata": {
        "colab": {
          "base_uri": "https://localhost:8080/"
        },
        "id": "b3amCgIOUKTq",
        "outputId": "234058bd-6367-43f5-9fe7-0e4347f99227"
      },
      "execution_count": null,
      "outputs": [
        {
          "output_type": "execute_result",
          "data": {
            "text/plain": [
              "(946, 18)"
            ]
          },
          "metadata": {},
          "execution_count": 66
        }
      ]
    },
    {
      "cell_type": "code",
      "source": [
        "df.info()"
      ],
      "metadata": {
        "colab": {
          "base_uri": "https://localhost:8080/"
        },
        "id": "e-Q6lNI5m3ny",
        "outputId": "11671283-ca1d-4fdc-f07f-4b01cbca2080"
      },
      "execution_count": null,
      "outputs": [
        {
          "output_type": "stream",
          "name": "stdout",
          "text": [
            "<class 'pandas.core.frame.DataFrame'>\n",
            "RangeIndex: 946 entries, 0 to 945\n",
            "Data columns (total 16 columns):\n",
            " #   Column       Non-Null Count  Dtype  \n",
            "---  ------       --------------  -----  \n",
            " 0   ID           946 non-null    object \n",
            " 1   Published    946 non-null    object \n",
            " 2   Type         946 non-null    object \n",
            " 3   Furnished    946 non-null    object \n",
            " 4   Accomodate   946 non-null    object \n",
            " 5   Description  946 non-null    object \n",
            " 6   LandLord     946 non-null    object \n",
            " 7   Address      946 non-null    object \n",
            " 8   City         946 non-null    object \n",
            " 9   Rooms        946 non-null    object \n",
            " 10  Size (m²)    946 non-null    float64\n",
            " 11  Kitchen      946 non-null    object \n",
            " 12  Bathroom     946 non-null    object \n",
            " 13  Price        946 non-null    object \n",
            " 14  Start        946 non-null    object \n",
            " 15  End          946 non-null    object \n",
            "dtypes: float64(1), object(15)\n",
            "memory usage: 118.4+ KB\n"
          ]
        }
      ]
    },
    {
      "cell_type": "code",
      "source": [
        "df['Price'] = df['Price'].str.lstrip('SEK')\n",
        "df['Price']= [int(p.replace(',', '')) for p in df['Price']]\n",
        "df['Rooms']= [float(p) for p in df['Rooms']]\n",
        "df['Accomodate']= [int(a) for a in df['Accomodate']]"
      ],
      "metadata": {
        "id": "2ngwOnfKnSq2"
      },
      "execution_count": null,
      "outputs": []
    },
    {
      "cell_type": "code",
      "source": [
        "df.info()"
      ],
      "metadata": {
        "colab": {
          "base_uri": "https://localhost:8080/"
        },
        "id": "y6dLCHPNoNXS",
        "outputId": "2cab65cc-142d-4be4-97f7-75c9ea73e5f6"
      },
      "execution_count": null,
      "outputs": [
        {
          "output_type": "stream",
          "name": "stdout",
          "text": [
            "<class 'pandas.core.frame.DataFrame'>\n",
            "RangeIndex: 946 entries, 0 to 945\n",
            "Data columns (total 16 columns):\n",
            " #   Column       Non-Null Count  Dtype  \n",
            "---  ------       --------------  -----  \n",
            " 0   ID           946 non-null    object \n",
            " 1   Published    946 non-null    object \n",
            " 2   Type         946 non-null    object \n",
            " 3   Furnished    946 non-null    object \n",
            " 4   Accomodate   946 non-null    int64  \n",
            " 5   Description  946 non-null    object \n",
            " 6   LandLord     946 non-null    object \n",
            " 7   Address      946 non-null    object \n",
            " 8   City         946 non-null    object \n",
            " 9   Rooms        946 non-null    float64\n",
            " 10  Size (m²)    946 non-null    float64\n",
            " 11  Kitchen      946 non-null    object \n",
            " 12  Bathroom     946 non-null    object \n",
            " 13  Price        946 non-null    int64  \n",
            " 14  Start        946 non-null    object \n",
            " 15  End          946 non-null    object \n",
            "dtypes: float64(2), int64(2), object(12)\n",
            "memory usage: 118.4+ KB\n"
          ]
        }
      ]
    },
    {
      "cell_type": "code",
      "source": [
        "sns.pairplot(df, kind=\"reg\", plot_kws={'line_kws':{'color':'red'}})"
      ],
      "metadata": {
        "colab": {
          "base_uri": "https://localhost:8080/",
          "height": 1000
        },
        "id": "rgnEO84noP7C",
        "outputId": "c2dff1e3-fb78-4185-afab-e5fda95734f8"
      },
      "execution_count": null,
      "outputs": [
        {
          "output_type": "execute_result",
          "data": {
            "text/plain": [
              "<seaborn.axisgrid.PairGrid at 0x7ff9042ee860>"
            ]
          },
          "metadata": {},
          "execution_count": 14
        },
        {
          "output_type": "display_data",
          "data": {
            "text/plain": [
              "<Figure size 1000x1000 with 20 Axes>"
            ],
            "image/png": "[encoded data removed]"
          },
          "metadata": {}
        }
      ]
    },
    {
      "cell_type": "code",
      "source": [
        "print('Correlation Value for Price and Size is: ', np.round((df['Price'].corr(df['Size (m²)'])*100),2) ,'%')\n",
        "print('Correlation Value for Size and Rooms is: ', np.round((df['Rooms'].corr(df['Size (m²)'])*100),2),'%')\n",
        "print('Correlation Value for Price and Rooms is: ', np.round((df['Price'].corr(df['Rooms'])*100),2),'%')\n",
        "print('Correlation Value for Price and Accomodate is: ', np.round((df['Price'].corr(df['Accomodate'])*100),2),'%')\n",
        "print('Correlation Value for Size and Accomodate is: ', np.round((df['Size (m²)'].corr(df['Accomodate'])*100),2),'%')"
      ],
      "metadata": {
        "colab": {
          "base_uri": "https://localhost:8080/"
        },
        "id": "4dtYqSvUob27",
        "outputId": "fadc534e-b779-4af4-c806-af4f672fa46a"
      },
      "execution_count": null,
      "outputs": [
        {
          "output_type": "stream",
          "name": "stdout",
          "text": [
            "Correlation Value for Price and Size is:  59.08 %\n",
            "Correlation Value for Size and Rooms is:  89.69 %\n",
            "Correlation Value for Price and Rooms is:  61.42 %\n",
            "Correlation Value for Price and Accomodate is:  41.83 %\n",
            "Correlation Value for Size and Accomodate is:  62.54 %\n"
          ]
        }
      ]
    },
    {
      "cell_type": "code",
      "source": [
        "thresholds = [0, 10000, 15000, 20000, 30000, float('inf')]\n",
        "categories = ['Small', 'Medium', 'High', 'Very High', 'Very Very High']\n",
        "df['Price Category'] = pd.cut(df['Price'], bins=thresholds, labels=categories)"
      ],
      "metadata": {
        "id": "ZjtYlP0CqTcV"
      },
      "execution_count": null,
      "outputs": []
    },
    {
      "cell_type": "code",
      "source": [
        "priceCat = pd.crosstab(df['Price Category'], df['Price']).sum(axis=1).astype('float')\n",
        "priceCat"
      ],
      "metadata": {
        "colab": {
          "base_uri": "https://localhost:8080/"
        },
        "id": "_wkzvtIGyKyo",
        "outputId": "56b5ccf9-45f8-4357-d01d-f3896c1754ae"
      },
      "execution_count": null,
      "outputs": [
        {
          "output_type": "execute_result",
          "data": {
            "text/plain": [
              "Price Category\n",
              "Small             495.0\n",
              "Medium            241.0\n",
              "High              130.0\n",
              "Very High          62.0\n",
              "Very Very High     18.0\n",
              "dtype: float64"
            ]
          },
          "metadata": {},
          "execution_count": 17
        }
      ]
    },
    {
      "cell_type": "code",
      "source": [
        "priceCat.plot(kind='bar', rot=0, figsize=(9, 4))\n",
        "range = ['Small(0-10000)', 'Medium(10000-15000)', 'High(15000-20000)', 'VeryHigh(20000-30000)', 'VeryVeryHigh(30000-)']\n",
        "plt.title('Price Categories Distribution')#, y=1.10,loc='r')\n",
        "#plt.title(range, fontsize=8, color='blue', loc='center')"
      ],
      "metadata": {
        "colab": {
          "base_uri": "https://localhost:8080/",
          "height": 427
        },
        "id": "hLFokT6erJjH",
        "outputId": "9d8da7e2-b37b-44f2-9ec5-9a6de0d8e88b"
      },
      "execution_count": null,
      "outputs": [
        {
          "output_type": "execute_result",
          "data": {
            "text/plain": [
              "Text(0.5, 1.0, 'Price Categories Distribution')"
            ]
          },
          "metadata": {},
          "execution_count": 68
        },
        {
          "output_type": "display_data",
          "data": {
            "text/plain": [
              "<Figure size 900x400 with 1 Axes>"
            ],
            "image/png": "[encoded data removed]"
          },
          "metadata": {}
        }
      ]
    },
    {
      "cell_type": "code",
      "source": [
        "sizeThresholds = [0, 30, 60, 80, 100, float('inf')]\n",
        "sizeCategories = ['Small', 'Medium', 'Large', 'Very Large', 'Extra Large']\n",
        "df['Size Categories'] = pd.cut(df['Size (m²)'], bins=sizeThresholds, labels=sizeCategories)"
      ],
      "metadata": {
        "id": "x9pM2uP41KLw"
      },
      "execution_count": null,
      "outputs": []
    },
    {
      "cell_type": "code",
      "source": [
        "sizeCat = pd.crosstab(df['Size Categories'], df['Size (m²)']).sum(axis=1).astype('float')\n",
        "sizeCat"
      ],
      "metadata": {
        "colab": {
          "base_uri": "https://localhost:8080/"
        },
        "id": "RNZS92Tr2ACz",
        "outputId": "ae04b839-8bd1-4124-9d32-0ae7388d41b8"
      },
      "execution_count": null,
      "outputs": [
        {
          "output_type": "execute_result",
          "data": {
            "text/plain": [
              "Size Categories\n",
              "Small          201.0\n",
              "Medium         324.0\n",
              "Large          192.0\n",
              "Very Large      85.0\n",
              "Extra Large    144.0\n",
              "dtype: float64"
            ]
          },
          "metadata": {},
          "execution_count": 20
        }
      ]
    },
    {
      "cell_type": "code",
      "source": [
        "sizeCat.plot(kind='bar', rot=0, figsize=(9, 4))\n",
        "range = ['Small(0-30)', 'Medium(30-60)', 'Large(60-80)', 'VeryLarge(80-100)', 'ExtraLarge(100-)']\n",
        "plt.title('Size Categories Distribution')#, y=1.10,loc='right')\n",
        "#plt.title(range, fontsize=8, color='blue', loc='center')"
      ],
      "metadata": {
        "colab": {
          "base_uri": "https://localhost:8080/",
          "height": 427
        },
        "id": "GVgkwDjo15bo",
        "outputId": "90d56f58-c291-4f3b-d889-4730f9a2124e"
      },
      "execution_count": null,
      "outputs": [
        {
          "output_type": "execute_result",
          "data": {
            "text/plain": [
              "Text(0.5, 1.0, 'Size Categories Distribution')"
            ]
          },
          "metadata": {},
          "execution_count": 69
        },
        {
          "output_type": "display_data",
          "data": {
            "text/plain": [
              "<Figure size 900x400 with 1 Axes>"
            ],
            "image/png": "[encoded data removed]"
          },
          "metadata": {}
        }
      ]
    },
    {
      "cell_type": "code",
      "source": [
        "newdf = df[df['City'].str.contains('|'.join(['Stockholm','Malmö','Göteborg','Solna']))]"
      ],
      "metadata": {
        "id": "yLiieaWI2qE7"
      },
      "execution_count": null,
      "outputs": []
    },
    {
      "cell_type": "code",
      "source": [
        "newdf.head()"
      ],
      "metadata": {
        "colab": {
          "base_uri": "https://localhost:8080/",
          "height": 484
        },
        "id": "xCUnISdK3KEF",
        "outputId": "1977d9f2-c59c-4769-cd8c-cc5a1c1d01e3"
      },
      "execution_count": null,
      "outputs": [
        {
          "output_type": "execute_result",
          "data": {
            "text/plain": [
              "        ID            Published           Type Furnished  Accomodate  \\\n",
              "0   676664   15 September 13:56      Apartment       Yes           2   \n",
              "1   676663   15 September 13:56  Terrace house       Yes           6   \n",
              "7   676657   15 September 13:46      Apartment       Yes           3   \n",
              "9   676656   15 September 13:44      Apartment       Yes           2   \n",
              "15  676648   15 September 13:31      Apartment       Yes           3   \n",
              "\n",
              "                                          Description         LandLord  \\\n",
              "0    Möblerad  2:a    -  Gröndal  -  Ett  år   I  ...   Be Resident AB   \n",
              "1    Corporate  housing:  Apartment  of  72  sqm  ...  YourStay Sweden   \n",
              "7   Möjligt att hyra depositionsfritt genom Samtry...      Samtrygg AB   \n",
              "9   Mysig 1,5:a i hjärtat av SoFo. Fin balkong i s...        Not found   \n",
              "15  Möjligt att hyra depositionsfritt genom Samtry...      Samtrygg AB   \n",
              "\n",
              "            Address        City  Rooms  Size (m²)  \\\n",
              "0   Ekensbergsvägen   Stockholm    2.0       28.0   \n",
              "1       Reginavägen       Malmö    3.0       72.0   \n",
              "7         Torsgatan   Stockholm    2.0       62.0   \n",
              "9     Gotlandsgatan   Stockholm    1.5       42.0   \n",
              "15     Förrådsgatan       Solna    2.0       48.0   \n",
              "\n",
              "                                              Kitchen  \\\n",
              "0   ['Kitchen', 'Fridge', 'Freezer', 'Oven', 'Stov...   \n",
              "1   ['Kitchen', 'Fridge', 'Freezer', 'Oven', 'Stov...   \n",
              "7   ['Kitchen', 'Fridge', 'Freezer', 'Oven', 'Stov...   \n",
              "9   ['Kitchen', 'Fridge', 'Freezer', 'Oven', 'Stov...   \n",
              "15  ['Kitchen', 'Fridge', 'Freezer', 'Oven', 'Stov...   \n",
              "\n",
              "                                             Bathroom  Price       Start  \\\n",
              "0   ['Shower', 'Toilet', 'Washroom', 'Washing mach...  12500  2023-10-01   \n",
              "1   ['Shower', 'Toilet', 'Washroom', 'Washing mach...  25500         Now   \n",
              "7   ['Shower', 'Toilet', 'Washroom', 'Washing mach...  34500  2023-10-01   \n",
              "9   ['Shower', 'Toilet', 'Washroom', 'Washing mach...  11544         Now   \n",
              "15  ['Shower', 'Toilet', 'Washroom', 'Washing mach...  21274  2023-11-01   \n",
              "\n",
              "                     End  Price Category Size Categories  \n",
              "0             2024-09-30          Medium           Small  \n",
              "1   Until further notice       Very High           Large  \n",
              "7             2024-05-31  Very Very High           Large  \n",
              "9   Until further notice          Medium          Medium  \n",
              "15  Until further notice       Very High          Medium  "
            ],
            "text/html": [
              "\n",
              "  <div id=\"df-a764ab40-bf48-4e42-b9b1-78239a411276\" class=\"colab-df-container\">\n",
              "    <div>\n",
              "<style scoped>\n",
              "    .dataframe tbody tr th:only-of-type {\n",
              "        vertical-align: middle;\n",
              "    }\n",
              "\n",
              "    .dataframe tbody tr th {\n",
              "        vertical-align: top;\n",
              "    }\n",
              "\n",
              "    .dataframe thead th {\n",
              "        text-align: right;\n",
              "    }\n",
              "</style>\n",
              "<table border=\"1\" class=\"dataframe\">\n",
              "  <thead>\n",
              "    <tr style=\"text-align: right;\">\n",
              "      <th></th>\n",
              "      <th>ID</th>\n",
              "      <th>Published</th>\n",
              "      <th>Type</th>\n",
              "      <th>Furnished</th>\n",
              "      <th>Accomodate</th>\n",
              "      <th>Description</th>\n",
              "      <th>LandLord</th>\n",
              "      <th>Address</th>\n",
              "      <th>City</th>\n",
              "      <th>Rooms</th>\n",
              "      <th>Size (m²)</th>\n",
              "      <th>Kitchen</th>\n",
              "      <th>Bathroom</th>\n",
              "      <th>Price</th>\n",
              "      <th>Start</th>\n",
              "      <th>End</th>\n",
              "      <th>Price Category</th>\n",
              "      <th>Size Categories</th>\n",
              "    </tr>\n",
              "  </thead>\n",
              "  <tbody>\n",
              "    <tr>\n",
              "      <th>0</th>\n",
              "      <td>676664</td>\n",
              "      <td>15 September 13:56</td>\n",
              "      <td>Apartment</td>\n",
              "      <td>Yes</td>\n",
              "      <td>2</td>\n",
              "      <td>Möblerad  2:a    -  Gröndal  -  Ett  år   I  ...</td>\n",
              "      <td>Be Resident AB</td>\n",
              "      <td>Ekensbergsvägen</td>\n",
              "      <td>Stockholm</td>\n",
              "      <td>2.0</td>\n",
              "      <td>28.0</td>\n",
              "      <td>['Kitchen', 'Fridge', 'Freezer', 'Oven', 'Stov...</td>\n",
              "      <td>['Shower', 'Toilet', 'Washroom', 'Washing mach...</td>\n",
              "      <td>12500</td>\n",
              "      <td>2023-10-01</td>\n",
              "      <td>2024-09-30</td>\n",
              "      <td>Medium</td>\n",
              "      <td>Small</td>\n",
              "    </tr>\n",
              "    <tr>\n",
              "      <th>1</th>\n",
              "      <td>676663</td>\n",
              "      <td>15 September 13:56</td>\n",
              "      <td>Terrace house</td>\n",
              "      <td>Yes</td>\n",
              "      <td>6</td>\n",
              "      <td>Corporate  housing:  Apartment  of  72  sqm  ...</td>\n",
              "      <td>YourStay Sweden</td>\n",
              "      <td>Reginavägen</td>\n",
              "      <td>Malmö</td>\n",
              "      <td>3.0</td>\n",
              "      <td>72.0</td>\n",
              "      <td>['Kitchen', 'Fridge', 'Freezer', 'Oven', 'Stov...</td>\n",
              "      <td>['Shower', 'Toilet', 'Washroom', 'Washing mach...</td>\n",
              "      <td>25500</td>\n",
              "      <td>Now</td>\n",
              "      <td>Until further notice</td>\n",
              "      <td>Very High</td>\n",
              "      <td>Large</td>\n",
              "    </tr>\n",
              "    <tr>\n",
              "      <th>7</th>\n",
              "      <td>676657</td>\n",
              "      <td>15 September 13:46</td>\n",
              "      <td>Apartment</td>\n",
              "      <td>Yes</td>\n",
              "      <td>3</td>\n",
              "      <td>Möjligt att hyra depositionsfritt genom Samtry...</td>\n",
              "      <td>Samtrygg AB</td>\n",
              "      <td>Torsgatan</td>\n",
              "      <td>Stockholm</td>\n",
              "      <td>2.0</td>\n",
              "      <td>62.0</td>\n",
              "      <td>['Kitchen', 'Fridge', 'Freezer', 'Oven', 'Stov...</td>\n",
              "      <td>['Shower', 'Toilet', 'Washroom', 'Washing mach...</td>\n",
              "      <td>34500</td>\n",
              "      <td>2023-10-01</td>\n",
              "      <td>2024-05-31</td>\n",
              "      <td>Very Very High</td>\n",
              "      <td>Large</td>\n",
              "    </tr>\n",
              "    <tr>\n",
              "      <th>9</th>\n",
              "      <td>676656</td>\n",
              "      <td>15 September 13:44</td>\n",
              "      <td>Apartment</td>\n",
              "      <td>Yes</td>\n",
              "      <td>2</td>\n",
              "      <td>Mysig 1,5:a i hjärtat av SoFo. Fin balkong i s...</td>\n",
              "      <td>Not found</td>\n",
              "      <td>Gotlandsgatan</td>\n",
              "      <td>Stockholm</td>\n",
              "      <td>1.5</td>\n",
              "      <td>42.0</td>\n",
              "      <td>['Kitchen', 'Fridge', 'Freezer', 'Oven', 'Stov...</td>\n",
              "      <td>['Shower', 'Toilet', 'Washroom', 'Washing mach...</td>\n",
              "      <td>11544</td>\n",
              "      <td>Now</td>\n",
              "      <td>Until further notice</td>\n",
              "      <td>Medium</td>\n",
              "      <td>Medium</td>\n",
              "    </tr>\n",
              "    <tr>\n",
              "      <th>15</th>\n",
              "      <td>676648</td>\n",
              "      <td>15 September 13:31</td>\n",
              "      <td>Apartment</td>\n",
              "      <td>Yes</td>\n",
              "      <td>3</td>\n",
              "      <td>Möjligt att hyra depositionsfritt genom Samtry...</td>\n",
              "      <td>Samtrygg AB</td>\n",
              "      <td>Förrådsgatan</td>\n",
              "      <td>Solna</td>\n",
              "      <td>2.0</td>\n",
              "      <td>48.0</td>\n",
              "      <td>['Kitchen', 'Fridge', 'Freezer', 'Oven', 'Stov...</td>\n",
              "      <td>['Shower', 'Toilet', 'Washroom', 'Washing mach...</td>\n",
              "      <td>21274</td>\n",
              "      <td>2023-11-01</td>\n",
              "      <td>Until further notice</td>\n",
              "      <td>Very High</td>\n",
              "      <td>Medium</td>\n",
              "    </tr>\n",
              "  </tbody>\n",
              "</table>\n",
              "</div>\n",
              "    <div class=\"colab-df-buttons\">\n",
              "\n",
              "  <div class=\"colab-df-container\">\n",
              "    <button class=\"colab-df-convert\" onclick=\"convertToInteractive('df-a764ab40-bf48-4e42-b9b1-78239a411276')\"\n",
              "            title=\"Convert this dataframe to an interactive table.\"\n",
              "            style=\"display:none;\">\n",
              "\n",
              "  <svg xmlns=\"http://www.w3.org/2000/svg\" height=\"24px\" viewBox=\"0 -960 960 960\">\n",
              "    <path d=\"M120-120v-720h720v720H120Zm60-500h600v-160H180v160Zm220 220h160v-160H400v160Zm0 220h160v-160H400v160ZM180-400h160v-160H180v160Zm440 0h160v-160H620v160ZM180-180h160v-160H180v160Zm440 0h160v-160H620v160Z\"/>\n",
              "  </svg>\n",
              "    </button>\n",
              "\n",
              "  <style>\n",
              "    .colab-df-container {\n",
              "      display:flex;\n",
              "      gap: 12px;\n",
              "    }\n",
              "\n",
              "    .colab-df-convert {\n",
              "      background-color: #E8F0FE;\n",
              "      border: none;\n",
              "      border-radius: 50%;\n",
              "      cursor: pointer;\n",
              "      display: none;\n",
              "      fill: #1967D2;\n",
              "      height: 32px;\n",
              "      padding: 0 0 0 0;\n",
              "      width: 32px;\n",
              "    }\n",
              "\n",
              "    .colab-df-convert:hover {\n",
              "      background-color: #E2EBFA;\n",
              "      box-shadow: 0px 1px 2px rgba(60, 64, 67, 0.3), 0px 1px 3px 1px rgba(60, 64, 67, 0.15);\n",
              "      fill: #174EA6;\n",
              "    }\n",
              "\n",
              "    .colab-df-buttons div {\n",
              "      margin-bottom: 4px;\n",
              "    }\n",
              "\n",
              "    [theme=dark] .colab-df-convert {\n",
              "      background-color: #3B4455;\n",
              "      fill: #D2E3FC;\n",
              "    }\n",
              "\n",
              "    [theme=dark] .colab-df-convert:hover {\n",
              "      background-color: #434B5C;\n",
              "      box-shadow: 0px 1px 3px 1px rgba(0, 0, 0, 0.15);\n",
              "      filter: drop-shadow(0px 1px 2px rgba(0, 0, 0, 0.3));\n",
              "      fill: #FFFFFF;\n",
              "    }\n",
              "  </style>\n",
              "\n",
              "    <script>\n",
              "      const buttonEl =\n",
              "        document.querySelector('#df-a764ab40-bf48-4e42-b9b1-78239a411276 button.colab-df-convert');\n",
              "      buttonEl.style.display =\n",
              "        google.colab.kernel.accessAllowed ? 'block' : 'none';\n",
              "\n",
              "      async function convertToInteractive(key) {\n",
              "        const element = document.querySelector('#df-a764ab40-bf48-4e42-b9b1-78239a411276');\n",
              "        const dataTable =\n",
              "          await google.colab.kernel.invokeFunction('convertToInteractive',\n",
              "                                                    [key], {});\n",
              "        if (!dataTable) return;\n",
              "\n",
              "        const docLinkHtml = 'Like what you see? Visit the ' +\n",
              "          '<a target=\"_blank\" href=https://colab.research.google.com/notebooks/data_table.ipynb>data table notebook</a>'\n",
              "          + ' to learn more about interactive tables.';\n",
              "        element.innerHTML = '';\n",
              "        dataTable['output_type'] = 'display_data';\n",
              "        await google.colab.output.renderOutput(dataTable, element);\n",
              "        const docLink = document.createElement('div');\n",
              "        docLink.innerHTML = docLinkHtml;\n",
              "        element.appendChild(docLink);\n",
              "      }\n",
              "    </script>\n",
              "  </div>\n",
              "\n",
              "\n",
              "<div id=\"df-f7395758-0016-46c4-a030-de52be4de23d\">\n",
              "  <button class=\"colab-df-quickchart\" onclick=\"quickchart('df-f7395758-0016-46c4-a030-de52be4de23d')\"\n",
              "            title=\"Suggest charts.\"\n",
              "            style=\"display:none;\">\n",
              "\n",
              "<svg xmlns=\"http://www.w3.org/2000/svg\" height=\"24px\"viewBox=\"0 0 24 24\"\n",
              "     width=\"24px\">\n",
              "    <g>\n",
              "        <path d=\"M19 3H5c-1.1 0-2 .9-2 2v14c0 1.1.9 2 2 2h14c1.1 0 2-.9 2-2V5c0-1.1-.9-2-2-2zM9 17H7v-7h2v7zm4 0h-2V7h2v10zm4 0h-2v-4h2v4z\"/>\n",
              "    </g>\n",
              "</svg>\n",
              "  </button>\n",
              "\n",
              "<style>\n",
              "  .colab-df-quickchart {\n",
              "      --bg-color: #E8F0FE;\n",
              "      --fill-color: #1967D2;\n",
              "      --hover-bg-color: #E2EBFA;\n",
              "      --hover-fill-color: #174EA6;\n",
              "      --disabled-fill-color: #AAA;\n",
              "      --disabled-bg-color: #DDD;\n",
              "  }\n",
              "\n",
              "  [theme=dark] .colab-df-quickchart {\n",
              "      --bg-color: #3B4455;\n",
              "      --fill-color: #D2E3FC;\n",
              "      --hover-bg-color: #434B5C;\n",
              "      --hover-fill-color: #FFFFFF;\n",
              "      --disabled-bg-color: #3B4455;\n",
              "      --disabled-fill-color: #666;\n",
              "  }\n",
              "\n",
              "  .colab-df-quickchart {\n",
              "    background-color: var(--bg-color);\n",
              "    border: none;\n",
              "    border-radius: 50%;\n",
              "    cursor: pointer;\n",
              "    display: none;\n",
              "    fill: var(--fill-color);\n",
              "    height: 32px;\n",
              "    padding: 0;\n",
              "    width: 32px;\n",
              "  }\n",
              "\n",
              "  .colab-df-quickchart:hover {\n",
              "    background-color: var(--hover-bg-color);\n",
              "    box-shadow: 0 1px 2px rgba(60, 64, 67, 0.3), 0 1px 3px 1px rgba(60, 64, 67, 0.15);\n",
              "    fill: var(--button-hover-fill-color);\n",
              "  }\n",
              "\n",
              "  .colab-df-quickchart-complete:disabled,\n",
              "  .colab-df-quickchart-complete:disabled:hover {\n",
              "    background-color: var(--disabled-bg-color);\n",
              "    fill: var(--disabled-fill-color);\n",
              "    box-shadow: none;\n",
              "  }\n",
              "\n",
              "  .colab-df-spinner {\n",
              "    border: 2px solid var(--fill-color);\n",
              "    border-color: transparent;\n",
              "    border-bottom-color: var(--fill-color);\n",
              "    animation:\n",
              "      spin 1s steps(1) infinite;\n",
              "  }\n",
              "\n",
              "  @keyframes spin {\n",
              "    0% {\n",
              "      border-color: transparent;\n",
              "      border-bottom-color: var(--fill-color);\n",
              "      border-left-color: var(--fill-color);\n",
              "    }\n",
              "    20% {\n",
              "      border-color: transparent;\n",
              "      border-left-color: var(--fill-color);\n",
              "      border-top-color: var(--fill-color);\n",
              "    }\n",
              "    30% {\n",
              "      border-color: transparent;\n",
              "      border-left-color: var(--fill-color);\n",
              "      border-top-color: var(--fill-color);\n",
              "      border-right-color: var(--fill-color);\n",
              "    }\n",
              "    40% {\n",
              "      border-color: transparent;\n",
              "      border-right-color: var(--fill-color);\n",
              "      border-top-color: var(--fill-color);\n",
              "    }\n",
              "    60% {\n",
              "      border-color: transparent;\n",
              "      border-right-color: var(--fill-color);\n",
              "    }\n",
              "    80% {\n",
              "      border-color: transparent;\n",
              "      border-right-color: var(--fill-color);\n",
              "      border-bottom-color: var(--fill-color);\n",
              "    }\n",
              "    90% {\n",
              "      border-color: transparent;\n",
              "      border-bottom-color: var(--fill-color);\n",
              "    }\n",
              "  }\n",
              "</style>\n",
              "\n",
              "  <script>\n",
              "    async function quickchart(key) {\n",
              "      const quickchartButtonEl =\n",
              "        document.querySelector('#' + key + ' button');\n",
              "      quickchartButtonEl.disabled = true;  // To prevent multiple clicks.\n",
              "      quickchartButtonEl.classList.add('colab-df-spinner');\n",
              "      try {\n",
              "        const charts = await google.colab.kernel.invokeFunction(\n",
              "            'suggestCharts', [key], {});\n",
              "      } catch (error) {\n",
              "        console.error('Error during call to suggestCharts:', error);\n",
              "      }\n",
              "      quickchartButtonEl.classList.remove('colab-df-spinner');\n",
              "      quickchartButtonEl.classList.add('colab-df-quickchart-complete');\n",
              "    }\n",
              "    (() => {\n",
              "      let quickchartButtonEl =\n",
              "        document.querySelector('#df-f7395758-0016-46c4-a030-de52be4de23d button');\n",
              "      quickchartButtonEl.style.display =\n",
              "        google.colab.kernel.accessAllowed ? 'block' : 'none';\n",
              "    })();\n",
              "  </script>\n",
              "</div>\n",
              "    </div>\n",
              "  </div>\n"
            ]
          },
          "metadata": {},
          "execution_count": 40
        }
      ]
    },
    {
      "cell_type": "markdown",
      "source": [
        "**Count of Residences per Cities**"
      ],
      "metadata": {
        "id": "30NKDPLA3hPe"
      }
    },
    {
      "cell_type": "code",
      "source": [
        "rc_per_city = pd.crosstab(newdf['City'], newdf.index).sum(axis=1).astype('int')\n",
        "rc_per_city"
      ],
      "metadata": {
        "colab": {
          "base_uri": "https://localhost:8080/"
        },
        "id": "hinfOaeK3Q3J",
        "outputId": "dc05f307-6bb7-4d2f-b296-310d69881bfb"
      },
      "execution_count": null,
      "outputs": [
        {
          "output_type": "execute_result",
          "data": {
            "text/plain": [
              "City\n",
              " Göteborg           40\n",
              " Malmö              17\n",
              " Solna              14\n",
              " Stockholm          71\n",
              " Årsta Stockholm     1\n",
              "dtype: int64"
            ]
          },
          "metadata": {},
          "execution_count": 24
        }
      ]
    },
    {
      "cell_type": "code",
      "source": [
        "rc_per_city.plot(kind='bar',rot=0, figsize=(9,4), title='Count of Residence per City')"
      ],
      "metadata": {
        "colab": {
          "base_uri": "https://localhost:8080/",
          "height": 427
        },
        "id": "2eYG0MGv3uJR",
        "outputId": "0194ad95-49d9-4944-d98b-9700d8b59a92"
      },
      "execution_count": null,
      "outputs": [
        {
          "output_type": "execute_result",
          "data": {
            "text/plain": [
              "<Axes: title={'center': 'Count of Residence per City'}, xlabel='City'>"
            ]
          },
          "metadata": {},
          "execution_count": 25
        },
        {
          "output_type": "display_data",
          "data": {
            "text/plain": [
              "<Figure size 900x400 with 1 Axes>"
            ],
            "image/png": "[encoded data removed]"
          },
          "metadata": {}
        }
      ]
    },
    {
      "cell_type": "code",
      "source": [
        "pd.crosstab(newdf['Type'], newdf['City']).plot(kind='bar',rot=0, figsize=(10,4), title='Residence Type per City')"
      ],
      "metadata": {
        "colab": {
          "base_uri": "https://localhost:8080/",
          "height": 427
        },
        "id": "QMke-GjhPgil",
        "outputId": "d7802f1e-8ed9-4616-c236-d0c9a342db96"
      },
      "execution_count": null,
      "outputs": [
        {
          "output_type": "execute_result",
          "data": {
            "text/plain": [
              "<Axes: title={'center': 'Residence Type per City'}, xlabel='Type'>"
            ]
          },
          "metadata": {},
          "execution_count": 70
        },
        {
          "output_type": "display_data",
          "data": {
            "text/plain": [
              "<Figure size 1000x400 with 1 Axes>"
            ],
            "image/png": "[encoded data removed]"
          },
          "metadata": {}
        }
      ]
    },
    {
      "cell_type": "code",
      "source": [
        "pd.crosstab(newdf['Furnished'], newdf['City']).plot(kind='bar', rot=0, title='Furnished (Y/N)? per City')\n",
        "plt.legend(loc='center left', bbox_to_anchor=(1.0, 0.5))"
      ],
      "metadata": {
        "colab": {
          "base_uri": "https://localhost:8080/",
          "height": 489
        },
        "id": "oeaLOxz522u1",
        "outputId": "38f2bc57-641f-4ac2-e6ff-f0df0ee43afb"
      },
      "execution_count": null,
      "outputs": [
        {
          "output_type": "execute_result",
          "data": {
            "text/plain": [
              "<matplotlib.legend.Legend at 0x7ff8ff6cf790>"
            ]
          },
          "metadata": {},
          "execution_count": 26
        },
        {
          "output_type": "display_data",
          "data": {
            "text/plain": [
              "<Figure size 640x480 with 1 Axes>"
            ],
            "image/png": "[encoded data removed]"
          },
          "metadata": {}
        }
      ]
    },
    {
      "cell_type": "code",
      "source": [
        "pd.crosstab(newdf['Size Categories'], newdf['City']).plot(kind='bar', rot=0)\n",
        "plt.legend(loc='center left', bbox_to_anchor=(1.0, 0.5))\n",
        "range = ['Small(0-30)', 'Medium(30-60)', 'Large(60-80)', 'VeryLarge(80-100)', 'ExtraLarge(100-)']\n",
        "plt.title('Size Categories per City', y=1.10,loc='right')\n",
        "plt.title(range, fontsize=8, color='blue', loc='center')"
      ],
      "metadata": {
        "colab": {
          "base_uri": "https://localhost:8080/",
          "height": 526
        },
        "id": "PyJyqUgY4wQs",
        "outputId": "dd08d418-48bc-46f1-f28a-1fd584b6220f"
      },
      "execution_count": null,
      "outputs": [
        {
          "output_type": "execute_result",
          "data": {
            "text/plain": [
              "Text(0.5, 1.0, \"['Small(0-30)', 'Medium(30-60)', 'Large(60-80)', 'VeryLarge(80-100)', 'ExtraLarge(100-)']\")"
            ]
          },
          "metadata": {},
          "execution_count": 29
        },
        {
          "output_type": "display_data",
          "data": {
            "text/plain": [
              "<Figure size 640x480 with 1 Axes>"
            ],
            "image/png": "[encoded data removed]"
          },
          "metadata": {}
        }
      ]
    },
    {
      "cell_type": "code",
      "source": [
        "pd.crosstab(newdf['Price Category'], newdf['City']).plot(kind='bar', rot=0, title='Price Categories per City')\n",
        "plt.legend(loc='center left', bbox_to_anchor=(1.0, 0.5))"
      ],
      "metadata": {
        "colab": {
          "base_uri": "https://localhost:8080/",
          "height": 489
        },
        "id": "XKXlZcYJ5CXj",
        "outputId": "c645a24e-21c7-47bf-9e5a-eb793b9d5ec8"
      },
      "execution_count": null,
      "outputs": [
        {
          "output_type": "execute_result",
          "data": {
            "text/plain": [
              "<matplotlib.legend.Legend at 0x7ff8ff33ffd0>"
            ]
          },
          "metadata": {},
          "execution_count": 30
        },
        {
          "output_type": "display_data",
          "data": {
            "text/plain": [
              "<Figure size 640x480 with 1 Axes>"
            ],
            "image/png": "[encoded data removed]"
          },
          "metadata": {}
        }
      ]
    },
    {
      "cell_type": "code",
      "source": [
        "pd.crosstab(newdf['Rooms'], newdf['City']).plot(kind='bar', rot=0, title='Rooms per City')\n",
        "plt.legend(loc='center left', bbox_to_anchor=(1.0, 0.5))"
      ],
      "metadata": {
        "colab": {
          "base_uri": "https://localhost:8080/",
          "height": 489
        },
        "id": "RPT8iy7o75sR",
        "outputId": "2e6d18a0-b595-43c9-e96f-d1a006f6b05f"
      },
      "execution_count": null,
      "outputs": [
        {
          "output_type": "execute_result",
          "data": {
            "text/plain": [
              "<matplotlib.legend.Legend at 0x7ff8ff3b1030>"
            ]
          },
          "metadata": {},
          "execution_count": 31
        },
        {
          "output_type": "display_data",
          "data": {
            "text/plain": [
              "<Figure size 640x480 with 1 Axes>"
            ],
            "image/png": "[encoded data removed]"
          },
          "metadata": {}
        }
      ]
    },
    {
      "cell_type": "markdown",
      "source": [
        "**Observing number of people to accomodate per city**"
      ],
      "metadata": {
        "id": "YK1B4qcL7fCj"
      }
    },
    {
      "cell_type": "code",
      "source": [
        "acc_df = newdf.sort_values(by=['Accomodate'])"
      ],
      "metadata": {
        "id": "FyacNf3057Vn"
      },
      "execution_count": null,
      "outputs": []
    },
    {
      "cell_type": "code",
      "source": [
        "pd.crosstab(acc_df['Accomodate'], acc_df['Type']).plot(kind='bar', rot=0, title='People Accomodate per Type')\n",
        "plt.legend(loc='center left', bbox_to_anchor=(1.0, 0.5))"
      ],
      "metadata": {
        "colab": {
          "base_uri": "https://localhost:8080/",
          "height": 489
        },
        "id": "Zfu6tBa95paM",
        "outputId": "d0da41ad-abc9-48bb-c51f-71e8214917c9"
      },
      "execution_count": null,
      "outputs": [
        {
          "output_type": "execute_result",
          "data": {
            "text/plain": [
              "<matplotlib.legend.Legend at 0x7ff8fa5728c0>"
            ]
          },
          "metadata": {},
          "execution_count": 71
        },
        {
          "output_type": "display_data",
          "data": {
            "text/plain": [
              "<Figure size 640x480 with 1 Axes>"
            ],
            "image/png": "[encoded data removed]"
          },
          "metadata": {}
        }
      ]
    },
    {
      "cell_type": "code",
      "source": [
        "newdf['LandLord'].unique()"
      ],
      "metadata": {
        "colab": {
          "base_uri": "https://localhost:8080/"
        },
        "id": "J97LSJmrKCh0",
        "outputId": "38a4105e-340c-4f7d-a89e-5c16b5ac0383"
      },
      "execution_count": null,
      "outputs": [
        {
          "output_type": "execute_result",
          "data": {
            "text/plain": [
              "array(['Be Resident AB', 'YourStay Sweden', 'Samtrygg AB', 'Not found',\n",
              "       'Danayit Habtemichael', 'Felix', 'Amir', 'Tanja',\n",
              "       'Anna Sara Marie', 'Åsa Viola', 'Maryam', 'MKLBYGGAB', 'Ellen',\n",
              "       'Juan Carlos', 'Elif yilmaz', 'Timur', 'Jenny Ann', 'Bengt',\n",
              "       'Adrian', 'John Alexander', 'Peshrao', 'Lena', 'Klara', 'Peter',\n",
              "       'Helena', 'Aida', 'Sadete', 'Caroline', 'Åmyne Fastigheter',\n",
              "       'Marie Lise-lott C', 'Jokke', 'Alan Robert', 'Mikael', 'Aram',\n",
              "       'Sara Martina', 'Anita', 'Pedro', 'Johan', 'Ayse', 'Maria',\n",
              "       'Danial Ali', 'Isabel', 'Olinda', 'Zheng',\n",
              "       'Jonathan André Jakob Olof', 'Syed Abbas Ghazanfar', 'Sally ',\n",
              "       'Sara', 'Hulya', 'Patrik Ola Torsten', 'Ann-christine', 'Lina',\n",
              "       'Amanda', 'Alice Maja', 'Fanny Antonia Marie', 'Alexander',\n",
              "       'Niklas', 'Margareta', 'Samuel Tor', 'Mustafa', 'Per Otto',\n",
              "       'Soheila', 'Ann-marie', 'Anders', 'Sofia', 'Gregory', 'Robert Hu',\n",
              "       'Miriam ', 'Nick', 'Karlsson', 'Elias', 'Moa', 'Esam Sadek',\n",
              "       'Rezarta', 'Joel', 'Maja Hanna', 'Anna-karin', 'Pelin',\n",
              "       'John August', 'Passion for Homes', 'Calle', 'Jonas', 'Laila',\n",
              "       'Anna', 'Vivamus Living AB', 'Sarah', 'Sabina', 'Sabrina',\n",
              "       'Carl-johan', 'Greger Svante Frithiof', 'Lara Lenora', 'Yashwanth',\n",
              "       'Emelie', 'Glob Fastigheter', 'Chatarina', 'Mats', 'Bahoz',\n",
              "       'Jovica'], dtype=object)"
            ]
          },
          "metadata": {},
          "execution_count": 34
        }
      ]
    },
    {
      "cell_type": "code",
      "source": [
        "busAds = ['Be Resident AB','YourStay Sweden', 'Samtrygg AB','Passion for Homes','Vivamus Living AB']\n",
        "newdf['Landlords Category'] = ['Business' if c in busAds else 'Private' for c in newdf['LandLord']]\n"
      ],
      "metadata": {
        "colab": {
          "base_uri": "https://localhost:8080/"
        },
        "id": "3VNJ-a79KRBp",
        "outputId": "d5b6f41b-d424-43a9-87e8-04f2346a8af2"
      },
      "execution_count": null,
      "outputs": [
        {
          "output_type": "stream",
          "name": "stderr",
          "text": [
            "<ipython-input-44-66a05e9101b7>:2: SettingWithCopyWarning: \n",
            "A value is trying to be set on a copy of a slice from a DataFrame.\n",
            "Try using .loc[row_indexer,col_indexer] = value instead\n",
            "\n",
            "See the caveats in the documentation: https://pandas.pydata.org/pandas-docs/stable/user_guide/indexing.html#returning-a-view-versus-a-copy\n",
            "  newdf['Landlords Category'] = ['Business' if c in busAds else 'Private' for c in newdf['LandLord']]\n"
          ]
        }
      ]
    },
    {
      "cell_type": "code",
      "source": [
        "newdf.head(10)"
      ],
      "metadata": {
        "colab": {
          "base_uri": "https://localhost:8080/",
          "height": 1000
        },
        "id": "B3AUFu9VODQN",
        "outputId": "88ad8c64-a6c6-4c3f-c35c-45b7dcee712b"
      },
      "execution_count": null,
      "outputs": [
        {
          "output_type": "execute_result",
          "data": {
            "text/plain": [
              "        ID            Published           Type Furnished  Accomodate  \\\n",
              "0   676664   15 September 13:56      Apartment       Yes           2   \n",
              "1   676663   15 September 13:56  Terrace house       Yes           6   \n",
              "7   676657   15 September 13:46      Apartment       Yes           3   \n",
              "9   676656   15 September 13:44      Apartment       Yes           2   \n",
              "15  676648   15 September 13:31      Apartment       Yes           3   \n",
              "26  676619   15 September 13:06      Apartment       Yes           1   \n",
              "27  676630   15 September 13:06      Apartment       Yes           2   \n",
              "28  676625   15 September 13:02      Apartment       Yes           2   \n",
              "30  676612   15 September 12:52      Apartment       Yes           2   \n",
              "32  640380        22 July 15:11          House       Yes           2   \n",
              "\n",
              "                                          Description              LandLord  \\\n",
              "0    Möblerad  2:a    -  Gröndal  -  Ett  år   I  ...        Be Resident AB   \n",
              "1    Corporate  housing:  Apartment  of  72  sqm  ...       YourStay Sweden   \n",
              "7   Möjligt att hyra depositionsfritt genom Samtry...           Samtrygg AB   \n",
              "9   Mysig 1,5:a i hjärtat av SoFo. Fin balkong i s...             Not found   \n",
              "15  Möjligt att hyra depositionsfritt genom Samtry...           Samtrygg AB   \n",
              "26  Då våran nyvaradnde hyresgäst skall återvända ...  Danayit Habtemichael   \n",
              "27  Då jag ska börja studera till hösten i Uppsala...                 Felix   \n",
              "28  En fin och ljus  lägenhet i Kvillebäcken, Göte...                  Amir   \n",
              "30  En liten men otroligt välplanerad 2a för helst...                 Tanja   \n",
              "32  BBo granne med oss?\\n\\nVi funderar på att hyra...       Anna Sara Marie   \n",
              "\n",
              "                 Address        City  Rooms  Size (m²)  \\\n",
              "0        Ekensbergsvägen   Stockholm    2.0       28.0   \n",
              "1            Reginavägen       Malmö    3.0       72.0   \n",
              "7              Torsgatan   Stockholm    2.0       62.0   \n",
              "9          Gotlandsgatan   Stockholm    1.5       42.0   \n",
              "15          Förrådsgatan       Solna    2.0       48.0   \n",
              "26      Segelmakaregatan    Göteborg    1.0       24.0   \n",
              "27            Rindögatan   Stockholm    2.0       44.0   \n",
              "28       Rundbäcksgatan     Göteborg    2.0       56.0   \n",
              "30  Ninni Kronbergs Gata   Stockholm    2.0       42.0   \n",
              "32          Ålkistevägen   Stockholm    1.5       40.0   \n",
              "\n",
              "                                              Kitchen  \\\n",
              "0   ['Kitchen', 'Fridge', 'Freezer', 'Oven', 'Stov...   \n",
              "1   ['Kitchen', 'Fridge', 'Freezer', 'Oven', 'Stov...   \n",
              "7   ['Kitchen', 'Fridge', 'Freezer', 'Oven', 'Stov...   \n",
              "9   ['Kitchen', 'Fridge', 'Freezer', 'Oven', 'Stov...   \n",
              "15  ['Kitchen', 'Fridge', 'Freezer', 'Oven', 'Stov...   \n",
              "26  ['Kitchen', 'Fridge', 'Freezer', 'Oven', 'Stov...   \n",
              "27  ['Kitchen', 'Fridge', 'Freezer', 'Oven', 'Stov...   \n",
              "28  ['Kitchen', 'Fridge', 'Freezer', 'Oven', 'Stov...   \n",
              "30  ['Kitchen', 'Fridge', 'Freezer', 'Oven', 'Stov...   \n",
              "32  ['Kitchen', 'Fridge', 'Freezer', 'Oven', 'Stov...   \n",
              "\n",
              "                                             Bathroom  Price       Start  \\\n",
              "0   ['Shower', 'Toilet', 'Washroom', 'Washing mach...  12500  2023-10-01   \n",
              "1   ['Shower', 'Toilet', 'Washroom', 'Washing mach...  25500         Now   \n",
              "7   ['Shower', 'Toilet', 'Washroom', 'Washing mach...  34500  2023-10-01   \n",
              "9   ['Shower', 'Toilet', 'Washroom', 'Washing mach...  11544         Now   \n",
              "15  ['Shower', 'Toilet', 'Washroom', 'Washing mach...  21274  2023-11-01   \n",
              "26  ['Shower', 'Toilet', 'Washroom', 'Washing mach...   8920  2023-10-23   \n",
              "27  ['Shower', 'Toilet', 'Washroom', 'Washing mach...  16792         Now   \n",
              "28  ['Shower', 'Toilet', 'Washroom', 'Washing mach...  16792  2023-10-01   \n",
              "30  ['Shower', 'Toilet', 'Washroom', 'Washing mach...  20465  2023-10-07   \n",
              "32  ['Shower', 'Toilet', 'Washroom', 'Washing mach...  18156  2023-09-17   \n",
              "\n",
              "                     End  Price Category Size Categories Landlords Category  \n",
              "0             2024-09-30          Medium           Small           Business  \n",
              "1   Until further notice       Very High           Large           Business  \n",
              "7             2024-05-31  Very Very High           Large           Business  \n",
              "9   Until further notice          Medium          Medium            Private  \n",
              "15  Until further notice       Very High          Medium           Business  \n",
              "26  Until further notice           Small           Small            Private  \n",
              "27  Until further notice            High          Medium            Private  \n",
              "28            2024-04-01            High          Medium            Private  \n",
              "30            2024-07-31       Very High          Medium            Private  \n",
              "32  Until further notice            High          Medium            Private  "
            ],
            "text/html": [
              "\n",
              "  <div id=\"df-45110877-b37d-49ca-a5a2-4aa22751ab46\" class=\"colab-df-container\">\n",
              "    <div>\n",
              "<style scoped>\n",
              "    .dataframe tbody tr th:only-of-type {\n",
              "        vertical-align: middle;\n",
              "    }\n",
              "\n",
              "    .dataframe tbody tr th {\n",
              "        vertical-align: top;\n",
              "    }\n",
              "\n",
              "    .dataframe thead th {\n",
              "        text-align: right;\n",
              "    }\n",
              "</style>\n",
              "<table border=\"1\" class=\"dataframe\">\n",
              "  <thead>\n",
              "    <tr style=\"text-align: right;\">\n",
              "      <th></th>\n",
              "      <th>ID</th>\n",
              "      <th>Published</th>\n",
              "      <th>Type</th>\n",
              "      <th>Furnished</th>\n",
              "      <th>Accomodate</th>\n",
              "      <th>Description</th>\n",
              "      <th>LandLord</th>\n",
              "      <th>Address</th>\n",
              "      <th>City</th>\n",
              "      <th>Rooms</th>\n",
              "      <th>Size (m²)</th>\n",
              "      <th>Kitchen</th>\n",
              "      <th>Bathroom</th>\n",
              "      <th>Price</th>\n",
              "      <th>Start</th>\n",
              "      <th>End</th>\n",
              "      <th>Price Category</th>\n",
              "      <th>Size Categories</th>\n",
              "      <th>Landlords Category</th>\n",
              "    </tr>\n",
              "  </thead>\n",
              "  <tbody>\n",
              "    <tr>\n",
              "      <th>0</th>\n",
              "      <td>676664</td>\n",
              "      <td>15 September 13:56</td>\n",
              "      <td>Apartment</td>\n",
              "      <td>Yes</td>\n",
              "      <td>2</td>\n",
              "      <td>Möblerad  2:a    -  Gröndal  -  Ett  år   I  ...</td>\n",
              "      <td>Be Resident AB</td>\n",
              "      <td>Ekensbergsvägen</td>\n",
              "      <td>Stockholm</td>\n",
              "      <td>2.0</td>\n",
              "      <td>28.0</td>\n",
              "      <td>['Kitchen', 'Fridge', 'Freezer', 'Oven', 'Stov...</td>\n",
              "      <td>['Shower', 'Toilet', 'Washroom', 'Washing mach...</td>\n",
              "      <td>12500</td>\n",
              "      <td>2023-10-01</td>\n",
              "      <td>2024-09-30</td>\n",
              "      <td>Medium</td>\n",
              "      <td>Small</td>\n",
              "      <td>Business</td>\n",
              "    </tr>\n",
              "    <tr>\n",
              "      <th>1</th>\n",
              "      <td>676663</td>\n",
              "      <td>15 September 13:56</td>\n",
              "      <td>Terrace house</td>\n",
              "      <td>Yes</td>\n",
              "      <td>6</td>\n",
              "      <td>Corporate  housing:  Apartment  of  72  sqm  ...</td>\n",
              "      <td>YourStay Sweden</td>\n",
              "      <td>Reginavägen</td>\n",
              "      <td>Malmö</td>\n",
              "      <td>3.0</td>\n",
              "      <td>72.0</td>\n",
              "      <td>['Kitchen', 'Fridge', 'Freezer', 'Oven', 'Stov...</td>\n",
              "      <td>['Shower', 'Toilet', 'Washroom', 'Washing mach...</td>\n",
              "      <td>25500</td>\n",
              "      <td>Now</td>\n",
              "      <td>Until further notice</td>\n",
              "      <td>Very High</td>\n",
              "      <td>Large</td>\n",
              "      <td>Business</td>\n",
              "    </tr>\n",
              "    <tr>\n",
              "      <th>7</th>\n",
              "      <td>676657</td>\n",
              "      <td>15 September 13:46</td>\n",
              "      <td>Apartment</td>\n",
              "      <td>Yes</td>\n",
              "      <td>3</td>\n",
              "      <td>Möjligt att hyra depositionsfritt genom Samtry...</td>\n",
              "      <td>Samtrygg AB</td>\n",
              "      <td>Torsgatan</td>\n",
              "      <td>Stockholm</td>\n",
              "      <td>2.0</td>\n",
              "      <td>62.0</td>\n",
              "      <td>['Kitchen', 'Fridge', 'Freezer', 'Oven', 'Stov...</td>\n",
              "      <td>['Shower', 'Toilet', 'Washroom', 'Washing mach...</td>\n",
              "      <td>34500</td>\n",
              "      <td>2023-10-01</td>\n",
              "      <td>2024-05-31</td>\n",
              "      <td>Very Very High</td>\n",
              "      <td>Large</td>\n",
              "      <td>Business</td>\n",
              "    </tr>\n",
              "    <tr>\n",
              "      <th>9</th>\n",
              "      <td>676656</td>\n",
              "      <td>15 September 13:44</td>\n",
              "      <td>Apartment</td>\n",
              "      <td>Yes</td>\n",
              "      <td>2</td>\n",
              "      <td>Mysig 1,5:a i hjärtat av SoFo. Fin balkong i s...</td>\n",
              "      <td>Not found</td>\n",
              "      <td>Gotlandsgatan</td>\n",
              "      <td>Stockholm</td>\n",
              "      <td>1.5</td>\n",
              "      <td>42.0</td>\n",
              "      <td>['Kitchen', 'Fridge', 'Freezer', 'Oven', 'Stov...</td>\n",
              "      <td>['Shower', 'Toilet', 'Washroom', 'Washing mach...</td>\n",
              "      <td>11544</td>\n",
              "      <td>Now</td>\n",
              "      <td>Until further notice</td>\n",
              "      <td>Medium</td>\n",
              "      <td>Medium</td>\n",
              "      <td>Private</td>\n",
              "    </tr>\n",
              "    <tr>\n",
              "      <th>15</th>\n",
              "      <td>676648</td>\n",
              "      <td>15 September 13:31</td>\n",
              "      <td>Apartment</td>\n",
              "      <td>Yes</td>\n",
              "      <td>3</td>\n",
              "      <td>Möjligt att hyra depositionsfritt genom Samtry...</td>\n",
              "      <td>Samtrygg AB</td>\n",
              "      <td>Förrådsgatan</td>\n",
              "      <td>Solna</td>\n",
              "      <td>2.0</td>\n",
              "      <td>48.0</td>\n",
              "      <td>['Kitchen', 'Fridge', 'Freezer', 'Oven', 'Stov...</td>\n",
              "      <td>['Shower', 'Toilet', 'Washroom', 'Washing mach...</td>\n",
              "      <td>21274</td>\n",
              "      <td>2023-11-01</td>\n",
              "      <td>Until further notice</td>\n",
              "      <td>Very High</td>\n",
              "      <td>Medium</td>\n",
              "      <td>Business</td>\n",
              "    </tr>\n",
              "    <tr>\n",
              "      <th>26</th>\n",
              "      <td>676619</td>\n",
              "      <td>15 September 13:06</td>\n",
              "      <td>Apartment</td>\n",
              "      <td>Yes</td>\n",
              "      <td>1</td>\n",
              "      <td>Då våran nyvaradnde hyresgäst skall återvända ...</td>\n",
              "      <td>Danayit Habtemichael</td>\n",
              "      <td>Segelmakaregatan</td>\n",
              "      <td>Göteborg</td>\n",
              "      <td>1.0</td>\n",
              "      <td>24.0</td>\n",
              "      <td>['Kitchen', 'Fridge', 'Freezer', 'Oven', 'Stov...</td>\n",
              "      <td>['Shower', 'Toilet', 'Washroom', 'Washing mach...</td>\n",
              "      <td>8920</td>\n",
              "      <td>2023-10-23</td>\n",
              "      <td>Until further notice</td>\n",
              "      <td>Small</td>\n",
              "      <td>Small</td>\n",
              "      <td>Private</td>\n",
              "    </tr>\n",
              "    <tr>\n",
              "      <th>27</th>\n",
              "      <td>676630</td>\n",
              "      <td>15 September 13:06</td>\n",
              "      <td>Apartment</td>\n",
              "      <td>Yes</td>\n",
              "      <td>2</td>\n",
              "      <td>Då jag ska börja studera till hösten i Uppsala...</td>\n",
              "      <td>Felix</td>\n",
              "      <td>Rindögatan</td>\n",
              "      <td>Stockholm</td>\n",
              "      <td>2.0</td>\n",
              "      <td>44.0</td>\n",
              "      <td>['Kitchen', 'Fridge', 'Freezer', 'Oven', 'Stov...</td>\n",
              "      <td>['Shower', 'Toilet', 'Washroom', 'Washing mach...</td>\n",
              "      <td>16792</td>\n",
              "      <td>Now</td>\n",
              "      <td>Until further notice</td>\n",
              "      <td>High</td>\n",
              "      <td>Medium</td>\n",
              "      <td>Private</td>\n",
              "    </tr>\n",
              "    <tr>\n",
              "      <th>28</th>\n",
              "      <td>676625</td>\n",
              "      <td>15 September 13:02</td>\n",
              "      <td>Apartment</td>\n",
              "      <td>Yes</td>\n",
              "      <td>2</td>\n",
              "      <td>En fin och ljus  lägenhet i Kvillebäcken, Göte...</td>\n",
              "      <td>Amir</td>\n",
              "      <td>Rundbäcksgatan</td>\n",
              "      <td>Göteborg</td>\n",
              "      <td>2.0</td>\n",
              "      <td>56.0</td>\n",
              "      <td>['Kitchen', 'Fridge', 'Freezer', 'Oven', 'Stov...</td>\n",
              "      <td>['Shower', 'Toilet', 'Washroom', 'Washing mach...</td>\n",
              "      <td>16792</td>\n",
              "      <td>2023-10-01</td>\n",
              "      <td>2024-04-01</td>\n",
              "      <td>High</td>\n",
              "      <td>Medium</td>\n",
              "      <td>Private</td>\n",
              "    </tr>\n",
              "    <tr>\n",
              "      <th>30</th>\n",
              "      <td>676612</td>\n",
              "      <td>15 September 12:52</td>\n",
              "      <td>Apartment</td>\n",
              "      <td>Yes</td>\n",
              "      <td>2</td>\n",
              "      <td>En liten men otroligt välplanerad 2a för helst...</td>\n",
              "      <td>Tanja</td>\n",
              "      <td>Ninni Kronbergs Gata</td>\n",
              "      <td>Stockholm</td>\n",
              "      <td>2.0</td>\n",
              "      <td>42.0</td>\n",
              "      <td>['Kitchen', 'Fridge', 'Freezer', 'Oven', 'Stov...</td>\n",
              "      <td>['Shower', 'Toilet', 'Washroom', 'Washing mach...</td>\n",
              "      <td>20465</td>\n",
              "      <td>2023-10-07</td>\n",
              "      <td>2024-07-31</td>\n",
              "      <td>Very High</td>\n",
              "      <td>Medium</td>\n",
              "      <td>Private</td>\n",
              "    </tr>\n",
              "    <tr>\n",
              "      <th>32</th>\n",
              "      <td>640380</td>\n",
              "      <td>22 July 15:11</td>\n",
              "      <td>House</td>\n",
              "      <td>Yes</td>\n",
              "      <td>2</td>\n",
              "      <td>BBo granne med oss?\\n\\nVi funderar på att hyra...</td>\n",
              "      <td>Anna Sara Marie</td>\n",
              "      <td>Ålkistevägen</td>\n",
              "      <td>Stockholm</td>\n",
              "      <td>1.5</td>\n",
              "      <td>40.0</td>\n",
              "      <td>['Kitchen', 'Fridge', 'Freezer', 'Oven', 'Stov...</td>\n",
              "      <td>['Shower', 'Toilet', 'Washroom', 'Washing mach...</td>\n",
              "      <td>18156</td>\n",
              "      <td>2023-09-17</td>\n",
              "      <td>Until further notice</td>\n",
              "      <td>High</td>\n",
              "      <td>Medium</td>\n",
              "      <td>Private</td>\n",
              "    </tr>\n",
              "  </tbody>\n",
              "</table>\n",
              "</div>\n",
              "    <div class=\"colab-df-buttons\">\n",
              "\n",
              "  <div class=\"colab-df-container\">\n",
              "    <button class=\"colab-df-convert\" onclick=\"convertToInteractive('df-45110877-b37d-49ca-a5a2-4aa22751ab46')\"\n",
              "            title=\"Convert this dataframe to an interactive table.\"\n",
              "            style=\"display:none;\">\n",
              "\n",
              "  <svg xmlns=\"http://www.w3.org/2000/svg\" height=\"24px\" viewBox=\"0 -960 960 960\">\n",
              "    <path d=\"M120-120v-720h720v720H120Zm60-500h600v-160H180v160Zm220 220h160v-160H400v160Zm0 220h160v-160H400v160ZM180-400h160v-160H180v160Zm440 0h160v-160H620v160ZM180-180h160v-160H180v160Zm440 0h160v-160H620v160Z\"/>\n",
              "  </svg>\n",
              "    </button>\n",
              "\n",
              "  <style>\n",
              "    .colab-df-container {\n",
              "      display:flex;\n",
              "      gap: 12px;\n",
              "    }\n",
              "\n",
              "    .colab-df-convert {\n",
              "      background-color: #E8F0FE;\n",
              "      border: none;\n",
              "      border-radius: 50%;\n",
              "      cursor: pointer;\n",
              "      display: none;\n",
              "      fill: #1967D2;\n",
              "      height: 32px;\n",
              "      padding: 0 0 0 0;\n",
              "      width: 32px;\n",
              "    }\n",
              "\n",
              "    .colab-df-convert:hover {\n",
              "      background-color: #E2EBFA;\n",
              "      box-shadow: 0px 1px 2px rgba(60, 64, 67, 0.3), 0px 1px 3px 1px rgba(60, 64, 67, 0.15);\n",
              "      fill: #174EA6;\n",
              "    }\n",
              "\n",
              "    .colab-df-buttons div {\n",
              "      margin-bottom: 4px;\n",
              "    }\n",
              "\n",
              "    [theme=dark] .colab-df-convert {\n",
              "      background-color: #3B4455;\n",
              "      fill: #D2E3FC;\n",
              "    }\n",
              "\n",
              "    [theme=dark] .colab-df-convert:hover {\n",
              "      background-color: #434B5C;\n",
              "      box-shadow: 0px 1px 3px 1px rgba(0, 0, 0, 0.15);\n",
              "      filter: drop-shadow(0px 1px 2px rgba(0, 0, 0, 0.3));\n",
              "      fill: #FFFFFF;\n",
              "    }\n",
              "  </style>\n",
              "\n",
              "    <script>\n",
              "      const buttonEl =\n",
              "        document.querySelector('#df-45110877-b37d-49ca-a5a2-4aa22751ab46 button.colab-df-convert');\n",
              "      buttonEl.style.display =\n",
              "        google.colab.kernel.accessAllowed ? 'block' : 'none';\n",
              "\n",
              "      async function convertToInteractive(key) {\n",
              "        const element = document.querySelector('#df-45110877-b37d-49ca-a5a2-4aa22751ab46');\n",
              "        const dataTable =\n",
              "          await google.colab.kernel.invokeFunction('convertToInteractive',\n",
              "                                                    [key], {});\n",
              "        if (!dataTable) return;\n",
              "\n",
              "        const docLinkHtml = 'Like what you see? Visit the ' +\n",
              "          '<a target=\"_blank\" href=https://colab.research.google.com/notebooks/data_table.ipynb>data table notebook</a>'\n",
              "          + ' to learn more about interactive tables.';\n",
              "        element.innerHTML = '';\n",
              "        dataTable['output_type'] = 'display_data';\n",
              "        await google.colab.output.renderOutput(dataTable, element);\n",
              "        const docLink = document.createElement('div');\n",
              "        docLink.innerHTML = docLinkHtml;\n",
              "        element.appendChild(docLink);\n",
              "      }\n",
              "    </script>\n",
              "  </div>\n",
              "\n",
              "\n",
              "<div id=\"df-2d28045c-ef04-4d1c-aa64-6d9269e4be92\">\n",
              "  <button class=\"colab-df-quickchart\" onclick=\"quickchart('df-2d28045c-ef04-4d1c-aa64-6d9269e4be92')\"\n",
              "            title=\"Suggest charts.\"\n",
              "            style=\"display:none;\">\n",
              "\n",
              "<svg xmlns=\"http://www.w3.org/2000/svg\" height=\"24px\"viewBox=\"0 0 24 24\"\n",
              "     width=\"24px\">\n",
              "    <g>\n",
              "        <path d=\"M19 3H5c-1.1 0-2 .9-2 2v14c0 1.1.9 2 2 2h14c1.1 0 2-.9 2-2V5c0-1.1-.9-2-2-2zM9 17H7v-7h2v7zm4 0h-2V7h2v10zm4 0h-2v-4h2v4z\"/>\n",
              "    </g>\n",
              "</svg>\n",
              "  </button>\n",
              "\n",
              "<style>\n",
              "  .colab-df-quickchart {\n",
              "      --bg-color: #E8F0FE;\n",
              "      --fill-color: #1967D2;\n",
              "      --hover-bg-color: #E2EBFA;\n",
              "      --hover-fill-color: #174EA6;\n",
              "      --disabled-fill-color: #AAA;\n",
              "      --disabled-bg-color: #DDD;\n",
              "  }\n",
              "\n",
              "  [theme=dark] .colab-df-quickchart {\n",
              "      --bg-color: #3B4455;\n",
              "      --fill-color: #D2E3FC;\n",
              "      --hover-bg-color: #434B5C;\n",
              "      --hover-fill-color: #FFFFFF;\n",
              "      --disabled-bg-color: #3B4455;\n",
              "      --disabled-fill-color: #666;\n",
              "  }\n",
              "\n",
              "  .colab-df-quickchart {\n",
              "    background-color: var(--bg-color);\n",
              "    border: none;\n",
              "    border-radius: 50%;\n",
              "    cursor: pointer;\n",
              "    display: none;\n",
              "    fill: var(--fill-color);\n",
              "    height: 32px;\n",
              "    padding: 0;\n",
              "    width: 32px;\n",
              "  }\n",
              "\n",
              "  .colab-df-quickchart:hover {\n",
              "    background-color: var(--hover-bg-color);\n",
              "    box-shadow: 0 1px 2px rgba(60, 64, 67, 0.3), 0 1px 3px 1px rgba(60, 64, 67, 0.15);\n",
              "    fill: var(--button-hover-fill-color);\n",
              "  }\n",
              "\n",
              "  .colab-df-quickchart-complete:disabled,\n",
              "  .colab-df-quickchart-complete:disabled:hover {\n",
              "    background-color: var(--disabled-bg-color);\n",
              "    fill: var(--disabled-fill-color);\n",
              "    box-shadow: none;\n",
              "  }\n",
              "\n",
              "  .colab-df-spinner {\n",
              "    border: 2px solid var(--fill-color);\n",
              "    border-color: transparent;\n",
              "    border-bottom-color: var(--fill-color);\n",
              "    animation:\n",
              "      spin 1s steps(1) infinite;\n",
              "  }\n",
              "\n",
              "  @keyframes spin {\n",
              "    0% {\n",
              "      border-color: transparent;\n",
              "      border-bottom-color: var(--fill-color);\n",
              "      border-left-color: var(--fill-color);\n",
              "    }\n",
              "    20% {\n",
              "      border-color: transparent;\n",
              "      border-left-color: var(--fill-color);\n",
              "      border-top-color: var(--fill-color);\n",
              "    }\n",
              "    30% {\n",
              "      border-color: transparent;\n",
              "      border-left-color: var(--fill-color);\n",
              "      border-top-color: var(--fill-color);\n",
              "      border-right-color: var(--fill-color);\n",
              "    }\n",
              "    40% {\n",
              "      border-color: transparent;\n",
              "      border-right-color: var(--fill-color);\n",
              "      border-top-color: var(--fill-color);\n",
              "    }\n",
              "    60% {\n",
              "      border-color: transparent;\n",
              "      border-right-color: var(--fill-color);\n",
              "    }\n",
              "    80% {\n",
              "      border-color: transparent;\n",
              "      border-right-color: var(--fill-color);\n",
              "      border-bottom-color: var(--fill-color);\n",
              "    }\n",
              "    90% {\n",
              "      border-color: transparent;\n",
              "      border-bottom-color: var(--fill-color);\n",
              "    }\n",
              "  }\n",
              "</style>\n",
              "\n",
              "  <script>\n",
              "    async function quickchart(key) {\n",
              "      const quickchartButtonEl =\n",
              "        document.querySelector('#' + key + ' button');\n",
              "      quickchartButtonEl.disabled = true;  // To prevent multiple clicks.\n",
              "      quickchartButtonEl.classList.add('colab-df-spinner');\n",
              "      try {\n",
              "        const charts = await google.colab.kernel.invokeFunction(\n",
              "            'suggestCharts', [key], {});\n",
              "      } catch (error) {\n",
              "        console.error('Error during call to suggestCharts:', error);\n",
              "      }\n",
              "      quickchartButtonEl.classList.remove('colab-df-spinner');\n",
              "      quickchartButtonEl.classList.add('colab-df-quickchart-complete');\n",
              "    }\n",
              "    (() => {\n",
              "      let quickchartButtonEl =\n",
              "        document.querySelector('#df-2d28045c-ef04-4d1c-aa64-6d9269e4be92 button');\n",
              "      quickchartButtonEl.style.display =\n",
              "        google.colab.kernel.accessAllowed ? 'block' : 'none';\n",
              "    })();\n",
              "  </script>\n",
              "</div>\n",
              "    </div>\n",
              "  </div>\n"
            ]
          },
          "metadata": {},
          "execution_count": 45
        }
      ]
    },
    {
      "cell_type": "code",
      "source": [
        "pd.crosstab(newdf['Landlords Category'], newdf['City']).sum(axis=1).plot(kind='bar', rot=0, title='Count of Landlords Category')\n",
        "plt.legend(loc='center left', bbox_to_anchor=(1.0, 0.5))"
      ],
      "metadata": {
        "colab": {
          "base_uri": "https://localhost:8080/",
          "height": 507
        },
        "id": "_L4Nf3mkOSo6",
        "outputId": "e62ceabf-c66d-4864-c390-2d8a3e72c968"
      },
      "execution_count": null,
      "outputs": [
        {
          "output_type": "stream",
          "name": "stderr",
          "text": [
            "WARNING:matplotlib.legend:No artists with labels found to put in legend.  Note that artists whose label start with an underscore are ignored when legend() is called with no argument.\n"
          ]
        },
        {
          "output_type": "execute_result",
          "data": {
            "text/plain": [
              "<matplotlib.legend.Legend at 0x7ff8fa398fd0>"
            ]
          },
          "metadata": {},
          "execution_count": 72
        },
        {
          "output_type": "display_data",
          "data": {
            "text/plain": [
              "<Figure size 640x480 with 1 Axes>"
            ],
            "image/png": "[encoded data removed]"
          },
          "metadata": {}
        }
      ]
    },
    {
      "cell_type": "code",
      "source": [
        "pd.crosstab(newdf['Landlords Category'], newdf['City']).plot(kind='bar', rot=0, title='Landlords Category per City')\n",
        "plt.legend(loc='center left', bbox_to_anchor=(1.0, 0.5))"
      ],
      "metadata": {
        "colab": {
          "base_uri": "https://localhost:8080/",
          "height": 489
        },
        "id": "iGrwyYkFPMSs",
        "outputId": "d48a782a-b940-49da-eb52-df2a5984ed64"
      },
      "execution_count": null,
      "outputs": [
        {
          "output_type": "execute_result",
          "data": {
            "text/plain": [
              "<matplotlib.legend.Legend at 0x7ff8fa79aa10>"
            ]
          },
          "metadata": {},
          "execution_count": 53
        },
        {
          "output_type": "display_data",
          "data": {
            "text/plain": [
              "<Figure size 640x480 with 1 Axes>"
            ],
            "image/png": "[encoded data removed]"
          },
          "metadata": {}
        }
      ]
    },
    {
      "cell_type": "code",
      "source": [
        "newdf['Kitchen']"
      ],
      "metadata": {
        "colab": {
          "base_uri": "https://localhost:8080/"
        },
        "id": "P_AFjiBx7t8t",
        "outputId": "50c533a6-ac2b-4156-bee1-c6e3e467047a"
      },
      "execution_count": null,
      "outputs": [
        {
          "output_type": "execute_result",
          "data": {
            "text/plain": [
              "0      ['Kitchen', 'Fridge', 'Freezer', 'Oven', 'Stov...\n",
              "1      ['Kitchen', 'Fridge', 'Freezer', 'Oven', 'Stov...\n",
              "7      ['Kitchen', 'Fridge', 'Freezer', 'Oven', 'Stov...\n",
              "9      ['Kitchen', 'Fridge', 'Freezer', 'Oven', 'Stov...\n",
              "15     ['Kitchen', 'Fridge', 'Freezer', 'Oven', 'Stov...\n",
              "                             ...                        \n",
              "901    ['Kitchen', 'Fridge', 'Freezer', 'Oven', 'Stov...\n",
              "910    ['Kitchen', 'Fridge', 'Freezer', 'Oven', 'Stov...\n",
              "935    ['Kitchen', 'Fridge', 'Freezer', 'Oven', 'Stov...\n",
              "938    ['Kitchen', 'Fridge', 'Freezer', 'Oven', 'Stov...\n",
              "943    ['Kitchen', 'Fridge', 'Freezer', 'Oven', 'Stov...\n",
              "Name: Kitchen, Length: 143, dtype: object"
            ]
          },
          "metadata": {},
          "execution_count": 198
        }
      ]
    }
  ]
}